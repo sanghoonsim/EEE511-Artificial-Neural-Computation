{
  "nbformat": 4,
  "nbformat_minor": 0,
  "metadata": {
    "colab": {
      "name": "Show_and_Tell_30k_2 (1).ipynb",
      "provenance": [],
      "collapsed_sections": [],
      "include_colab_link": true
    },
    "kernelspec": {
      "name": "python3",
      "display_name": "Python 3"
    },
    "language_info": {
      "name": "python"
    },
    "accelerator": "GPU",
    "widgets": {
      "application/vnd.jupyter.widget-state+json": {
        "879c2e03196a4201852563fccc7dc2e4": {
          "model_module": "@jupyter-widgets/controls",
          "model_name": "HBoxModel",
          "model_module_version": "1.5.0",
          "state": {
            "_view_name": "HBoxView",
            "_dom_classes": [],
            "_model_name": "HBoxModel",
            "_view_module": "@jupyter-widgets/controls",
            "_model_module_version": "1.5.0",
            "_view_count": null,
            "_view_module_version": "1.5.0",
            "box_style": "",
            "layout": "IPY_MODEL_2405f85639f14fc693ebccdca396cbda",
            "_model_module": "@jupyter-widgets/controls",
            "children": [
              "IPY_MODEL_b08b91ea56534c98af69a32be134365f",
              "IPY_MODEL_08399e980957467286c6876e0fb60bea",
              "IPY_MODEL_409593b8f90d49d1a9e347eb610e4454"
            ]
          }
        },
        "2405f85639f14fc693ebccdca396cbda": {
          "model_module": "@jupyter-widgets/base",
          "model_name": "LayoutModel",
          "model_module_version": "1.2.0",
          "state": {
            "_view_name": "LayoutView",
            "grid_template_rows": null,
            "right": null,
            "justify_content": null,
            "_view_module": "@jupyter-widgets/base",
            "overflow": null,
            "_model_module_version": "1.2.0",
            "_view_count": null,
            "flex_flow": null,
            "width": null,
            "min_width": null,
            "border": null,
            "align_items": null,
            "bottom": null,
            "_model_module": "@jupyter-widgets/base",
            "top": null,
            "grid_column": null,
            "overflow_y": null,
            "overflow_x": null,
            "grid_auto_flow": null,
            "grid_area": null,
            "grid_template_columns": null,
            "flex": null,
            "_model_name": "LayoutModel",
            "justify_items": null,
            "grid_row": null,
            "max_height": null,
            "align_content": null,
            "visibility": null,
            "align_self": null,
            "height": null,
            "min_height": null,
            "padding": null,
            "grid_auto_rows": null,
            "grid_gap": null,
            "max_width": null,
            "order": null,
            "_view_module_version": "1.2.0",
            "grid_template_areas": null,
            "object_position": null,
            "object_fit": null,
            "grid_auto_columns": null,
            "margin": null,
            "display": null,
            "left": null
          }
        },
        "b08b91ea56534c98af69a32be134365f": {
          "model_module": "@jupyter-widgets/controls",
          "model_name": "HTMLModel",
          "model_module_version": "1.5.0",
          "state": {
            "_view_name": "HTMLView",
            "style": "IPY_MODEL_e702fbf75cc04cdfad4f72d82e13373e",
            "_dom_classes": [],
            "description": "",
            "_model_name": "HTMLModel",
            "placeholder": "​",
            "_view_module": "@jupyter-widgets/controls",
            "_model_module_version": "1.5.0",
            "value": "100%",
            "_view_count": null,
            "_view_module_version": "1.5.0",
            "description_tooltip": null,
            "_model_module": "@jupyter-widgets/controls",
            "layout": "IPY_MODEL_eba1d9822435409daddf76f59b74666c"
          }
        },
        "08399e980957467286c6876e0fb60bea": {
          "model_module": "@jupyter-widgets/controls",
          "model_name": "FloatProgressModel",
          "model_module_version": "1.5.0",
          "state": {
            "_view_name": "ProgressView",
            "style": "IPY_MODEL_d7e5e911db4c4c4080a483495a8a89a0",
            "_dom_classes": [],
            "description": "",
            "_model_name": "FloatProgressModel",
            "bar_style": "success",
            "max": 178793939,
            "_view_module": "@jupyter-widgets/controls",
            "_model_module_version": "1.5.0",
            "value": 178793939,
            "_view_count": null,
            "_view_module_version": "1.5.0",
            "orientation": "horizontal",
            "min": 0,
            "description_tooltip": null,
            "_model_module": "@jupyter-widgets/controls",
            "layout": "IPY_MODEL_92a60489088442fb9bcc627e88e40f7a"
          }
        },
        "409593b8f90d49d1a9e347eb610e4454": {
          "model_module": "@jupyter-widgets/controls",
          "model_name": "HTMLModel",
          "model_module_version": "1.5.0",
          "state": {
            "_view_name": "HTMLView",
            "style": "IPY_MODEL_e6d2b5efd3ee461ea51b0f41976d8952",
            "_dom_classes": [],
            "description": "",
            "_model_name": "HTMLModel",
            "placeholder": "​",
            "_view_module": "@jupyter-widgets/controls",
            "_model_module_version": "1.5.0",
            "value": " 171M/171M [00:03&lt;00:00, 46.8MB/s]",
            "_view_count": null,
            "_view_module_version": "1.5.0",
            "description_tooltip": null,
            "_model_module": "@jupyter-widgets/controls",
            "layout": "IPY_MODEL_2d5b9aaa488b4754b524428fcb83b86c"
          }
        },
        "e702fbf75cc04cdfad4f72d82e13373e": {
          "model_module": "@jupyter-widgets/controls",
          "model_name": "DescriptionStyleModel",
          "model_module_version": "1.5.0",
          "state": {
            "_view_name": "StyleView",
            "_model_name": "DescriptionStyleModel",
            "description_width": "",
            "_view_module": "@jupyter-widgets/base",
            "_model_module_version": "1.5.0",
            "_view_count": null,
            "_view_module_version": "1.2.0",
            "_model_module": "@jupyter-widgets/controls"
          }
        },
        "eba1d9822435409daddf76f59b74666c": {
          "model_module": "@jupyter-widgets/base",
          "model_name": "LayoutModel",
          "model_module_version": "1.2.0",
          "state": {
            "_view_name": "LayoutView",
            "grid_template_rows": null,
            "right": null,
            "justify_content": null,
            "_view_module": "@jupyter-widgets/base",
            "overflow": null,
            "_model_module_version": "1.2.0",
            "_view_count": null,
            "flex_flow": null,
            "width": null,
            "min_width": null,
            "border": null,
            "align_items": null,
            "bottom": null,
            "_model_module": "@jupyter-widgets/base",
            "top": null,
            "grid_column": null,
            "overflow_y": null,
            "overflow_x": null,
            "grid_auto_flow": null,
            "grid_area": null,
            "grid_template_columns": null,
            "flex": null,
            "_model_name": "LayoutModel",
            "justify_items": null,
            "grid_row": null,
            "max_height": null,
            "align_content": null,
            "visibility": null,
            "align_self": null,
            "height": null,
            "min_height": null,
            "padding": null,
            "grid_auto_rows": null,
            "grid_gap": null,
            "max_width": null,
            "order": null,
            "_view_module_version": "1.2.0",
            "grid_template_areas": null,
            "object_position": null,
            "object_fit": null,
            "grid_auto_columns": null,
            "margin": null,
            "display": null,
            "left": null
          }
        },
        "d7e5e911db4c4c4080a483495a8a89a0": {
          "model_module": "@jupyter-widgets/controls",
          "model_name": "ProgressStyleModel",
          "model_module_version": "1.5.0",
          "state": {
            "_view_name": "StyleView",
            "_model_name": "ProgressStyleModel",
            "description_width": "",
            "_view_module": "@jupyter-widgets/base",
            "_model_module_version": "1.5.0",
            "_view_count": null,
            "_view_module_version": "1.2.0",
            "bar_color": null,
            "_model_module": "@jupyter-widgets/controls"
          }
        },
        "92a60489088442fb9bcc627e88e40f7a": {
          "model_module": "@jupyter-widgets/base",
          "model_name": "LayoutModel",
          "model_module_version": "1.2.0",
          "state": {
            "_view_name": "LayoutView",
            "grid_template_rows": null,
            "right": null,
            "justify_content": null,
            "_view_module": "@jupyter-widgets/base",
            "overflow": null,
            "_model_module_version": "1.2.0",
            "_view_count": null,
            "flex_flow": null,
            "width": null,
            "min_width": null,
            "border": null,
            "align_items": null,
            "bottom": null,
            "_model_module": "@jupyter-widgets/base",
            "top": null,
            "grid_column": null,
            "overflow_y": null,
            "overflow_x": null,
            "grid_auto_flow": null,
            "grid_area": null,
            "grid_template_columns": null,
            "flex": null,
            "_model_name": "LayoutModel",
            "justify_items": null,
            "grid_row": null,
            "max_height": null,
            "align_content": null,
            "visibility": null,
            "align_self": null,
            "height": null,
            "min_height": null,
            "padding": null,
            "grid_auto_rows": null,
            "grid_gap": null,
            "max_width": null,
            "order": null,
            "_view_module_version": "1.2.0",
            "grid_template_areas": null,
            "object_position": null,
            "object_fit": null,
            "grid_auto_columns": null,
            "margin": null,
            "display": null,
            "left": null
          }
        },
        "e6d2b5efd3ee461ea51b0f41976d8952": {
          "model_module": "@jupyter-widgets/controls",
          "model_name": "DescriptionStyleModel",
          "model_module_version": "1.5.0",
          "state": {
            "_view_name": "StyleView",
            "_model_name": "DescriptionStyleModel",
            "description_width": "",
            "_view_module": "@jupyter-widgets/base",
            "_model_module_version": "1.5.0",
            "_view_count": null,
            "_view_module_version": "1.2.0",
            "_model_module": "@jupyter-widgets/controls"
          }
        },
        "2d5b9aaa488b4754b524428fcb83b86c": {
          "model_module": "@jupyter-widgets/base",
          "model_name": "LayoutModel",
          "model_module_version": "1.2.0",
          "state": {
            "_view_name": "LayoutView",
            "grid_template_rows": null,
            "right": null,
            "justify_content": null,
            "_view_module": "@jupyter-widgets/base",
            "overflow": null,
            "_model_module_version": "1.2.0",
            "_view_count": null,
            "flex_flow": null,
            "width": null,
            "min_width": null,
            "border": null,
            "align_items": null,
            "bottom": null,
            "_model_module": "@jupyter-widgets/base",
            "top": null,
            "grid_column": null,
            "overflow_y": null,
            "overflow_x": null,
            "grid_auto_flow": null,
            "grid_area": null,
            "grid_template_columns": null,
            "flex": null,
            "_model_name": "LayoutModel",
            "justify_items": null,
            "grid_row": null,
            "max_height": null,
            "align_content": null,
            "visibility": null,
            "align_self": null,
            "height": null,
            "min_height": null,
            "padding": null,
            "grid_auto_rows": null,
            "grid_gap": null,
            "max_width": null,
            "order": null,
            "_view_module_version": "1.2.0",
            "grid_template_areas": null,
            "object_position": null,
            "object_fit": null,
            "grid_auto_columns": null,
            "margin": null,
            "display": null,
            "left": null
          }
        }
      }
    }
  },
  "cells": [
    {
      "cell_type": "markdown",
      "metadata": {
        "id": "view-in-github",
        "colab_type": "text"
      },
      "source": [
        "<a href=\"https://colab.research.google.com/github/sanghoonsim/EEE511-Artificial-Neural-Computation/blob/main/Show_and_Tell_flickr30k.ipynb\" target=\"_parent\"><img src=\"https://colab.research.google.com/assets/colab-badge.svg\" alt=\"Open In Colab\"/></a>"
      ]
    },
    {
      "cell_type": "code",
      "metadata": {
        "colab": {
          "base_uri": "https://localhost:8080/"
        },
        "id": "I5Z92PGs5_Lj",
        "outputId": "268c082b-5503-4eeb-c539-95fdb3ec8496"
      },
      "source": [
        "# Download Flickr30k download\n",
        "!gdown --id 1YZaKTk0slPmV1x-b432nTtlcd-s0EvkN --output Flickr30k_dataset.zip"
      ],
      "execution_count": 1,
      "outputs": [
        {
          "output_type": "stream",
          "name": "stdout",
          "text": [
            "Downloading...\n",
            "From: https://drive.google.com/uc?id=1YZaKTk0slPmV1x-b432nTtlcd-s0EvkN\n",
            "To: /content/Flickr30k_dataset.zip\n",
            "100% 8.77G/8.77G [02:48<00:00, 52.0MB/s]\n"
          ]
        }
      ]
    },
    {
      "cell_type": "code",
      "metadata": {
        "id": "uTuwSbyv6EGP"
      },
      "source": [
        "%%capture\n",
        "!unzip Flickr30k_dataset.zip"
      ],
      "execution_count": 2,
      "outputs": []
    },
    {
      "cell_type": "code",
      "metadata": {
        "id": "9vrCkffV70no"
      },
      "source": [
        "!rm -rf ./flickr30k_images/flickr30k_images/flickr30k_images"
      ],
      "execution_count": 3,
      "outputs": []
    },
    {
      "cell_type": "code",
      "metadata": {
        "id": "61UooiqF8wuc"
      },
      "source": [
        "!rm Flickr30k_dataset.zip"
      ],
      "execution_count": 4,
      "outputs": []
    },
    {
      "cell_type": "code",
      "metadata": {
        "colab": {
          "base_uri": "https://localhost:8080/"
        },
        "id": "g3Pz6OxW9DkV",
        "outputId": "709fb5e1-6060-4b80-aa12-86b89c99db57"
      },
      "source": [
        "import csv\n",
        "\n",
        "f = open('./flickr30k_images/results.csv', 'r', encoding='utf-8')\n",
        "rdr = csv.reader(f)\n",
        "list2 = []\n",
        "for line2 in rdr:\n",
        "    list2.append(line2)\n",
        "f.close()\n",
        "print(list2[1][0].split('|')[2])\n",
        "print(len(list2))\n",
        "\n",
        "f = open('captions.txt', 'w')\n",
        "for i in range(len(list2)):\n",
        "  f.write(list2[i][0].split('|')[0])\n",
        "  f.write(',')\n",
        "  try:\n",
        "    f.write(list2[i][0].split('|')[2].lstrip())\n",
        "  except:\n",
        "    print(list2[i][0].split('|')[1])\n",
        "\n",
        "  f.write('\\n')"
      ],
      "execution_count": 5,
      "outputs": [
        {
          "output_type": "stream",
          "name": "stdout",
          "text": [
            " Two young guys with shaggy hair look at their hands while hanging out in the yard .\n",
            "158916\n",
            " 4   A dog runs across the grass .\n"
          ]
        }
      ]
    },
    {
      "cell_type": "code",
      "metadata": {
        "id": "SgJ0yOSu9RSB"
      },
      "source": [
        "!rm ./flickr30k_images/results.csv"
      ],
      "execution_count": 6,
      "outputs": []
    },
    {
      "cell_type": "code",
      "metadata": {
        "id": "IbmfuBaC81qZ"
      },
      "source": [
        "!rm ./flickr30k_images/flickr30k_images/results.csv"
      ],
      "execution_count": 7,
      "outputs": []
    },
    {
      "cell_type": "code",
      "metadata": {
        "id": "EdiuNCxV89Yp",
        "colab": {
          "base_uri": "https://localhost:8080/"
        },
        "outputId": "94f221e1-1768-4a0e-a4ef-11e29ed0c2d6"
      },
      "source": [
        "# Install library to calculate BLEU Score\n",
        "!pip install torchtext==0.6.0"
      ],
      "execution_count": 8,
      "outputs": [
        {
          "output_type": "stream",
          "name": "stdout",
          "text": [
            "Collecting torchtext==0.6.0\n",
            "  Downloading torchtext-0.6.0-py3-none-any.whl (64 kB)\n",
            "\u001b[K     |████████████████████████████████| 64 kB 1.5 MB/s \n",
            "\u001b[?25hCollecting sentencepiece\n",
            "  Downloading sentencepiece-0.1.96-cp37-cp37m-manylinux_2_17_x86_64.manylinux2014_x86_64.whl (1.2 MB)\n",
            "\u001b[K     |████████████████████████████████| 1.2 MB 5.8 MB/s \n",
            "\u001b[?25hRequirement already satisfied: tqdm in /usr/local/lib/python3.7/dist-packages (from torchtext==0.6.0) (4.62.3)\n",
            "Requirement already satisfied: requests in /usr/local/lib/python3.7/dist-packages (from torchtext==0.6.0) (2.23.0)\n",
            "Requirement already satisfied: six in /usr/local/lib/python3.7/dist-packages (from torchtext==0.6.0) (1.15.0)\n",
            "Requirement already satisfied: numpy in /usr/local/lib/python3.7/dist-packages (from torchtext==0.6.0) (1.19.5)\n",
            "Requirement already satisfied: torch in /usr/local/lib/python3.7/dist-packages (from torchtext==0.6.0) (1.10.0+cu111)\n",
            "Requirement already satisfied: certifi>=2017.4.17 in /usr/local/lib/python3.7/dist-packages (from requests->torchtext==0.6.0) (2021.10.8)\n",
            "Requirement already satisfied: urllib3!=1.25.0,!=1.25.1,<1.26,>=1.21.1 in /usr/local/lib/python3.7/dist-packages (from requests->torchtext==0.6.0) (1.24.3)\n",
            "Requirement already satisfied: chardet<4,>=3.0.2 in /usr/local/lib/python3.7/dist-packages (from requests->torchtext==0.6.0) (3.0.4)\n",
            "Requirement already satisfied: idna<3,>=2.5 in /usr/local/lib/python3.7/dist-packages (from requests->torchtext==0.6.0) (2.10)\n",
            "Requirement already satisfied: typing-extensions in /usr/local/lib/python3.7/dist-packages (from torch->torchtext==0.6.0) (3.10.0.2)\n",
            "Installing collected packages: sentencepiece, torchtext\n",
            "  Attempting uninstall: torchtext\n",
            "    Found existing installation: torchtext 0.11.0\n",
            "    Uninstalling torchtext-0.11.0:\n",
            "      Successfully uninstalled torchtext-0.11.0\n",
            "Successfully installed sentencepiece-0.1.96 torchtext-0.6.0\n"
          ]
        }
      ]
    },
    {
      "cell_type": "code",
      "metadata": {
        "id": "8ZundrWC9V9a",
        "colab": {
          "base_uri": "https://localhost:8080/"
        },
        "outputId": "9939466e-9db1-4c90-ee2b-37313ed9195e"
      },
      "source": [
        "# Resize all the images in the dataset\n",
        "import os\n",
        "from PIL import Image\n",
        "\n",
        "image_dir = \"./flickr30k_images/flickr30k_images\" # Path to original image\n",
        "train_image_dir = \"./resized_train/images\" # Path to resized image(Training)\n",
        "val_image_dir = \"./resized_val/images\" # Path to resized image(Validation)\n",
        "test_image_dir = \"./resized_test/images\" # Path to resized image(Testing)\n",
        "size = [256, 256] # size of resized image\n",
        "\n",
        "\n",
        "def resize_image(image, size):\n",
        "    # Image,ANTIALIAS: to avoid defection when high resolution image is resized into low resolution  \n",
        "    return image.resize(size, Image.ANTIALIAS) \n",
        "\n",
        "# Move the resized image in the image_dir to the result folder(Learning, Validation and Testing)\n",
        "if not os.path.exists(train_image_dir):\n",
        "    os.makedirs(train_image_dir)\n",
        "if not os.path.exists(val_image_dir):\n",
        "    os.makedirs(val_image_dir)\n",
        "if not os.path.exists(test_image_dir):\n",
        "    os.makedirs(test_image_dir)\n",
        "\n",
        "images = sorted(os.listdir(image_dir)) # Sorting both image and caption by name\n",
        "num_images = len(images)\n",
        "num_train_images = 22500 # 6000 for Learning data\n",
        "num_val_images = 3750 # 1000 for validation\n",
        "\n",
        "print(len(images))\n",
        "print(images[0])\n",
        "print(images[-1])\n",
        "\n"
      ],
      "execution_count": 9,
      "outputs": [
        {
          "output_type": "stream",
          "name": "stdout",
          "text": [
            "31783\n",
            "1000092795.jpg\n",
            "998845445.jpg\n"
          ]
        }
      ]
    },
    {
      "cell_type": "code",
      "metadata": {
        "id": "dFMEpNQh9tNE",
        "colab": {
          "base_uri": "https://localhost:8080/"
        },
        "outputId": "ae9f727b-8c91-41c0-a4f4-3dd75e666384"
      },
      "source": [
        "for i, image in enumerate(images): # Distribute images into three categories by numbers\n",
        "    # print(i, image) : 0 1000268201_693b08cb0e.jpg\n",
        "    if (i + 1) <= num_train_images:\n",
        "        output_dir = train_image_dir\n",
        "    elif (i + 1) <= num_train_images + num_val_images:\n",
        "        output_dir = val_image_dir\n",
        "    else:\n",
        "        output_dir = test_image_dir\n",
        "    with open(os.path.join(image_dir, image), 'rb+') as f:\n",
        "        with Image.open(f) as img:\n",
        "            img = resize_image(img, size)\n",
        "            img.save(os.path.join(output_dir, image), img.format)\n",
        "    if (i + 1) % 500 == 0: # print progress in every 500-th turn\n",
        "        print(f\"[{i + 1}/{num_images}] Resized the images and saved into '{output_dir}'\")"
      ],
      "execution_count": 10,
      "outputs": [
        {
          "output_type": "stream",
          "name": "stdout",
          "text": [
            "[500/31783] Resized the images and saved into './resized_train/images'\n",
            "[1000/31783] Resized the images and saved into './resized_train/images'\n",
            "[1500/31783] Resized the images and saved into './resized_train/images'\n",
            "[2000/31783] Resized the images and saved into './resized_train/images'\n",
            "[2500/31783] Resized the images and saved into './resized_train/images'\n",
            "[3000/31783] Resized the images and saved into './resized_train/images'\n",
            "[3500/31783] Resized the images and saved into './resized_train/images'\n",
            "[4000/31783] Resized the images and saved into './resized_train/images'\n",
            "[4500/31783] Resized the images and saved into './resized_train/images'\n",
            "[5000/31783] Resized the images and saved into './resized_train/images'\n",
            "[5500/31783] Resized the images and saved into './resized_train/images'\n",
            "[6000/31783] Resized the images and saved into './resized_train/images'\n",
            "[6500/31783] Resized the images and saved into './resized_train/images'\n",
            "[7000/31783] Resized the images and saved into './resized_train/images'\n",
            "[7500/31783] Resized the images and saved into './resized_train/images'\n",
            "[8000/31783] Resized the images and saved into './resized_train/images'\n",
            "[8500/31783] Resized the images and saved into './resized_train/images'\n",
            "[9000/31783] Resized the images and saved into './resized_train/images'\n",
            "[9500/31783] Resized the images and saved into './resized_train/images'\n",
            "[10000/31783] Resized the images and saved into './resized_train/images'\n",
            "[10500/31783] Resized the images and saved into './resized_train/images'\n",
            "[11000/31783] Resized the images and saved into './resized_train/images'\n",
            "[11500/31783] Resized the images and saved into './resized_train/images'\n",
            "[12000/31783] Resized the images and saved into './resized_train/images'\n",
            "[12500/31783] Resized the images and saved into './resized_train/images'\n",
            "[13000/31783] Resized the images and saved into './resized_train/images'\n",
            "[13500/31783] Resized the images and saved into './resized_train/images'\n",
            "[14000/31783] Resized the images and saved into './resized_train/images'\n",
            "[14500/31783] Resized the images and saved into './resized_train/images'\n",
            "[15000/31783] Resized the images and saved into './resized_train/images'\n",
            "[15500/31783] Resized the images and saved into './resized_train/images'\n",
            "[16000/31783] Resized the images and saved into './resized_train/images'\n",
            "[16500/31783] Resized the images and saved into './resized_train/images'\n",
            "[17000/31783] Resized the images and saved into './resized_train/images'\n",
            "[17500/31783] Resized the images and saved into './resized_train/images'\n",
            "[18000/31783] Resized the images and saved into './resized_train/images'\n",
            "[18500/31783] Resized the images and saved into './resized_train/images'\n",
            "[19000/31783] Resized the images and saved into './resized_train/images'\n",
            "[19500/31783] Resized the images and saved into './resized_train/images'\n",
            "[20000/31783] Resized the images and saved into './resized_train/images'\n",
            "[20500/31783] Resized the images and saved into './resized_train/images'\n",
            "[21000/31783] Resized the images and saved into './resized_train/images'\n",
            "[21500/31783] Resized the images and saved into './resized_train/images'\n",
            "[22000/31783] Resized the images and saved into './resized_train/images'\n",
            "[22500/31783] Resized the images and saved into './resized_train/images'\n",
            "[23000/31783] Resized the images and saved into './resized_val/images'\n",
            "[23500/31783] Resized the images and saved into './resized_val/images'\n",
            "[24000/31783] Resized the images and saved into './resized_val/images'\n",
            "[24500/31783] Resized the images and saved into './resized_val/images'\n",
            "[25000/31783] Resized the images and saved into './resized_val/images'\n",
            "[25500/31783] Resized the images and saved into './resized_val/images'\n",
            "[26000/31783] Resized the images and saved into './resized_val/images'\n",
            "[26500/31783] Resized the images and saved into './resized_test/images'\n",
            "[27000/31783] Resized the images and saved into './resized_test/images'\n",
            "[27500/31783] Resized the images and saved into './resized_test/images'\n",
            "[28000/31783] Resized the images and saved into './resized_test/images'\n",
            "[28500/31783] Resized the images and saved into './resized_test/images'\n",
            "[29000/31783] Resized the images and saved into './resized_test/images'\n",
            "[29500/31783] Resized the images and saved into './resized_test/images'\n",
            "[30000/31783] Resized the images and saved into './resized_test/images'\n",
            "[30500/31783] Resized the images and saved into './resized_test/images'\n",
            "[31000/31783] Resized the images and saved into './resized_test/images'\n",
            "[31500/31783] Resized the images and saved into './resized_test/images'\n"
          ]
        }
      ]
    },
    {
      "cell_type": "code",
      "metadata": {
        "id": "yKzNlD9494S2",
        "colab": {
          "base_uri": "https://localhost:8080/"
        },
        "outputId": "a9902133-1b95-4613-aa90-e141d357d7ab"
      },
      "source": [
        "# Build vocabs using captions\n",
        "import pickle # To store the object as binary\n",
        "import nltk # For natural language processing\n",
        "from collections import Counter\n",
        "\n",
        "nltk.download('punkt') # Download tokenizer\n",
        "\n",
        "caption_path = \"./captions.txt\" # Path to captions.txt\n",
        "vocab_path = \"./vocab.pkl\" # vocabs\n",
        "word_threshold = 4 # the minumum nuber of appearance\n",
        "train_caption_path = \"./resized_train/captions.txt\" # Path to captions of resized image(Training)\n",
        "val_caption_path = \"./resized_val/captions.txt\" # Path to captions of resized image(Validation)\n",
        "test_caption_path = \"./resized_test/captions.txt\" # Path to captions of resized image(Testing)\n",
        "\n",
        "\n",
        "class Vocabulary(object):\n",
        "    \"\"\"Simple vocabulary wrapper.\"\"\"\n",
        "    def __init__(self):\n",
        "        self.word2idx = {}\n",
        "        self.idx2word = {}\n",
        "        self.idx = 0\n",
        "\n",
        "    def add_word(self, word):\n",
        "        if not word in self.word2idx:\n",
        "            self.word2idx[word] = self.idx\n",
        "            self.idx2word[self.idx] = word\n",
        "            self.idx += 1\n",
        "\n",
        "    def __call__(self, word):\n",
        "        # If unable to figure out the word\n",
        "        if not word in self.word2idx:\n",
        "            return self.word2idx['<unk>']\n",
        "        # If there is a word for captioning    \n",
        "        return self.word2idx[word]\n",
        "\n",
        "    def __len__(self):\n",
        "        return len(self.word2idx)\n",
        "\n",
        "counter = Counter()\n",
        "\n",
        "with open(caption_path, \"r\") as f: # Read captions.txt\n",
        "    lines = sorted(f.readlines()[1:]) # 0-th line is a headlines\n",
        "    for i in range(len(lines)):\n",
        "        line = lines[i]\n",
        "        if (i + 1) <= num_train_images * 5: # Becuase there are 5 captions per 1 image\n",
        "            output_caption = train_caption_path\n",
        "        elif (i + 1) <= (num_train_images + num_val_images) * 5:\n",
        "            output_caption = val_caption_path\n",
        "        else:\n",
        "            output_caption = test_caption_path\n",
        "        index = line.find(\",\") # Find the starting point of caption. [name of image, caption]\n",
        "        caption = line[index + 1:] # Recording character of captions\n",
        "        # tokens ['a', 'child', 'in', 'a', 'pink', 'dress', 'is', 'climbing', 'up', 'a', 'set', 'of', 'stairs', 'in', 'an', 'entry', 'way', '.']\n",
        "        tokens = nltk.tokenize.word_tokenize(caption.lower())\n",
        "        # Counter({'a': 3, 'in': 2, 'child': 1, 'pink': 1, 'dress': 1, 'is': 1, \n",
        "        #          'climbing': 1, 'up': 1, 'set': 1, 'of': 1, 'stairs': 1, 'an': 1, 'entry': 1, 'way': 1, '.': 1})\n",
        "        counter.update(tokens) # dictionary\n",
        "        with open(output_caption, \"a\") as output_caption_f: # save the in the path (train_caption_path, val_caption_path or test_caption_path)\n",
        "            output_caption_f.write(line)\n",
        "# only if when it surpass the threshold\n",
        "words = [word for word, cnt in counter.items() if cnt >= word_threshold] # make a list composed of words that appears over the number threshold\n",
        "# 'word'      'cnt'\n",
        "# david         2\n",
        "# beckham       1\n",
        "# canvasses     1\n",
        "# enforcment  1\n",
        "# ...\n",
        "vocab = Vocabulary() # add the word, then the two lists are implemented, 'word2idx' and 'idx2word'\n",
        "vocab.add_word('<pad>')\n",
        "vocab.add_word('<start>')\n",
        "vocab.add_word('<end>')\n",
        "vocab.add_word('<unk>') # when object is unknown\n",
        "\n",
        "# assign all the words to Vocabulary object\n",
        "for word in words:\n",
        "    vocab.add_word(word)\n",
        "\n",
        "# Save them in \"./vocab.pkl\"\n",
        "with open(vocab_path, 'wb') as f:\n",
        "    pickle.dump(vocab, f) # usage of pickle"
      ],
      "execution_count": 11,
      "outputs": [
        {
          "output_type": "stream",
          "name": "stdout",
          "text": [
            "[nltk_data] Downloading package punkt to /root/nltk_data...\n",
            "[nltk_data]   Unzipping tokenizers/punkt.zip.\n"
          ]
        }
      ]
    },
    {
      "cell_type": "code",
      "metadata": {
        "id": "HqlcAs_T_vp2",
        "colab": {
          "base_uri": "https://localhost:8080/"
        },
        "outputId": "ebfbc253-1403-4916-abcf-755065117de1"
      },
      "source": [
        "# The number of captions(Training) in dataset\n",
        "!wc -l ./resized_train/captions.txt\n",
        "# The number of captions(Val) in dataset\n",
        "!wc -l ./resized_val/captions.txt\n",
        "# The number of captions(Testing) in dataset\n",
        "!wc -l ./resized_test/captions.txt"
      ],
      "execution_count": 12,
      "outputs": [
        {
          "output_type": "stream",
          "name": "stdout",
          "text": [
            "112500 ./resized_train/captions.txt\n",
            "18750 ./resized_val/captions.txt\n",
            "27665 ./resized_test/captions.txt\n"
          ]
        }
      ]
    },
    {
      "cell_type": "code",
      "metadata": {
        "id": "pxlSUeRX_5nP"
      },
      "source": [
        "# Define Flickr8kDataset Class\n",
        "import torch.utils.data as data\n",
        "\n",
        "class Flickr8kDataset(data.Dataset): # Define Flickr8k Dataset\n",
        "    def __init__(self, root, captions, vocab, transform=None):\n",
        "        self.root = root # Path to image\n",
        "        with open(captions, \"r\") as f:\n",
        "             lines = f.readlines()\n",
        "             self.captions = [] # list to store the captions\n",
        "             for line in lines: \n",
        "                index = line.find(\",\") # find the starting point of the caption\n",
        "                path = line[:index] # name of image file\n",
        "                caption = line[index + 1:] # the content of the caption\n",
        "                self.captions.append((path, caption))\n",
        "        self.vocab = vocab\n",
        "        self.transform = transform\n",
        "\n",
        "    # retrieve the image and caption one by one\n",
        "    def __getitem__(self, index):\n",
        "        vocab = self.vocab\n",
        "        path = self.captions[index][0] # the name of the image\n",
        "        caption = self.captions[index][1] # the caption\n",
        "\n",
        "        image = Image.open(os.path.join(self.root, path)).convert('RGB')\n",
        "        if self.transform is not None:\n",
        "            image = self.transform(image)\n",
        "\n",
        "        # Tokenize the caption\n",
        "        tokens = nltk.tokenize.word_tokenize(str(caption).lower())\n",
        "        caption = []\n",
        "        caption.append(vocab('<start>')) # Start tag\n",
        "        caption.extend([vocab(token) for token in tokens]) # Pick words in vocabs if word is in token\n",
        "        caption.append(vocab('<end>')) # End tag\n",
        "        target = torch.Tensor(caption) # Create a tensor\n",
        "        return image, target\n",
        "\n",
        "    def __len__(self):\n",
        "        return len(self.captions)"
      ],
      "execution_count": 13,
      "outputs": []
    },
    {
      "cell_type": "code",
      "metadata": {
        "id": "ZH8AyrGO_7-p"
      },
      "source": [
        "# Batch the tuple composed of a image and a caption\n",
        "def collate_fn(data):\n",
        "    \"\"\"\n",
        "    [Input]\n",
        "    * data : list of tuple (image, caption)\n",
        "      * image : torch tensor of shape (3, 256, 256)\n",
        "      * caption : torch tensor of shape (?); variable length\n",
        "    [output]\n",
        "    * images : torch tensor of shape (batch_size, 3, 256, 256)\n",
        "    * targets: torch tensor of shape (batch_size, padded_length)\n",
        "    * lengths: list; valid length for each padded caption\n",
        "    \"\"\"\n",
        "    # Sort data by the length of the captions\n",
        "    data.sort(key=lambda x: len(x[1]), reverse=True)\n",
        "    images, captions = zip(*data)\n",
        "\n",
        "    # Merge images in the form of the list into one tensor (num of data, 3, 256, 256)\n",
        "    images = torch.stack(images, 0)\n",
        "\n",
        "    # Merge captions in the form of the list into one tensor(num of data, the number of tokens in the largest length of the token)\n",
        "    lengths = [len(caption) for caption in captions]\n",
        "    targets = torch.zeros(len(captions), max(lengths)).long()\n",
        "    # get rid of padding\n",
        "    for i, cap in enumerate(captions):\n",
        "        end = lengths[i]\n",
        "        targets[i, :end] = cap[:end]\n",
        "    return images, targets, lengths\n",
        "\n",
        "def collate_fn_test(data):\n",
        "    images, captions = zip(*data)\n",
        "\n",
        "    images = torch.stack(images, 0)\n",
        "\n",
        "    lengths = [len(caption) for caption in captions]\n",
        "    targets = torch.zeros(len(captions), max(lengths)).long()\n",
        "    for i, cap in enumerate(captions):\n",
        "        end = lengths[i]\n",
        "        targets[i, :end] = cap[:end]\n",
        "    return images, targets, lengths\n",
        "\n",
        "def get_loader(root, captions, vocab, transform, batch_size, shuffle, num_workers, testing):\n",
        "    flickr8k = Flickr8kDataset(root=root, captions=captions, vocab=vocab, transform=transform)\n",
        "    if not testing:\n",
        "        data_loader = torch.utils.data.DataLoader(dataset=flickr8k, batch_size=batch_size, shuffle=shuffle, num_workers=num_workers, collate_fn=collate_fn)\n",
        "    else:\n",
        "        data_loader = torch.utils.data.DataLoader(dataset=flickr8k, batch_size=batch_size, shuffle=shuffle, num_workers=num_workers, collate_fn=collate_fn_test)\n",
        "    return data_loader # images, captions, lengths for each iteration"
      ],
      "execution_count": 14,
      "outputs": []
    },
    {
      "cell_type": "code",
      "metadata": {
        "id": "5pUF5WjzADE8"
      },
      "source": [
        "import torch\n",
        "import torch.nn as nn\n",
        "import torchvision.models as models\n",
        "from torch.nn.utils.rnn import pack_padded_sequence\n",
        "\n",
        "\n",
        "class EncoderCNN(nn.Module):\n",
        "    def __init__(self, embed_size):\n",
        "        super(EncoderCNN, self).__init__()\n",
        "        resnet = models.resnet101(pretrained=True)\n",
        "        modules = list(resnet.children())[:-1]\n",
        "        self.resnet = nn.Sequential(*modules)\n",
        "        self.linear = nn.Linear(resnet.fc.in_features, embed_size)\n",
        "        self.bn = nn.BatchNorm1d(embed_size, momentum=0.01)\n",
        "    def forward(self, images):\n",
        "        with torch.no_grad(): \n",
        "            features = self.resnet(images)\n",
        "        features = features.reshape(features.size(0), -1)\n",
        "        features = self.bn(self.linear(features))\n",
        "        return features\n",
        "\n",
        "\n",
        "class DecoderRNN(nn.Module):\n",
        "    def __init__(self, embed_size, hidden_size, vocab_size, num_layers, max_seq_length=20):\n",
        "        super(DecoderRNN, self).__init__()\n",
        "        self.embed = nn.Embedding(vocab_size, embed_size)\n",
        "        self.lstm = nn.LSTM(embed_size, hidden_size, num_layers, batch_first=True)\n",
        "        self.linear = nn.Linear(hidden_size, vocab_size)\n",
        "        self.max_seg_length = max_seq_length\n",
        "\n",
        "    def forward(self, features, captions, lengths):\n",
        "        embeddings = self.embed(captions)\n",
        "        embeddings = torch.cat((features.unsqueeze(1), embeddings), 1) \n",
        "        packed = pack_padded_sequence(embeddings, lengths, batch_first=True) \n",
        "        hiddens, _ = self.lstm(packed) \n",
        "        outputs = self.linear(hiddens[0])\n",
        "        return outputs\n",
        "\n",
        "    def sample(self, features, states=None):\n",
        "\n",
        "        sampled_indexes = []\n",
        "        inputs = features.unsqueeze(1)\n",
        "        for i in range(self.max_seg_length):\n",
        "            hiddens, states = self.lstm(inputs, states) # hiddens: (batch_size, 1, hidden_size)\n",
        "            outputs = self.linear(hiddens.squeeze(1)) # outputs: (batch_size, vocab_size)\n",
        "            _, predicted = outputs.max(1) # predicted: (batch_size)\n",
        "            sampled_indexes.append(predicted)\n",
        "            inputs = self.embed(predicted) # inputs: (batch_size, embed_size)\n",
        "            inputs = inputs.unsqueeze(1) # inputs: (batch_size, 1, embed_size)\n",
        "        sampled_indexes = torch.stack(sampled_indexes, 1) # sampled_indexes: (batch_size, max_seq_length)\n",
        "        return sampled_indexes"
      ],
      "execution_count": 15,
      "outputs": []
    },
    {
      "cell_type": "code",
      "metadata": {
        "id": "4SpIIyBQAFlK"
      },
      "source": [
        "import torch\n",
        "from torch.nn.utils.rnn import pack_padded_sequence\n",
        "from torchvision import transforms\n",
        "\n",
        "device = torch.device('cuda' if torch.cuda.is_available() else 'cpu')\n",
        "\n",
        "model_path = \"models/\" \n",
        "crop_size = 224 \n",
        "vocab_path = \"./vocab.pkl\" \n",
        "\n",
        "if not os.path.exists(model_path):\n",
        "    os.makedirs(model_path)\n",
        "\n",
        "with open(vocab_path, 'rb') as f:\n",
        "    vocab = pickle.load(f)\n",
        "\n",
        "train_transform = transforms.Compose([ \n",
        "    transforms.RandomCrop(crop_size),\n",
        "    transforms.RandomHorizontalFlip(), \n",
        "    transforms.ToTensor(), \n",
        "    transforms.Normalize((0.485, 0.456, 0.406), (0.229, 0.224, 0.225))])\n",
        "\n",
        "val_transform = transforms.Compose([ \n",
        "    transforms.Resize(crop_size), \n",
        "    transforms.ToTensor(), \n",
        "    transforms.Normalize((0.485, 0.456, 0.406), (0.229, 0.224, 0.225))])\n",
        "\n",
        "test_transform = transforms.Compose([ \n",
        "    transforms.Resize(crop_size), \n",
        "    transforms.ToTensor(), \n",
        "    transforms.Normalize((0.485, 0.456, 0.406), (0.229, 0.224, 0.225))])\n",
        "\n",
        "batch_size = 128\n",
        "num_workers = 2\n",
        "\n",
        "train_data_loader = get_loader(train_image_dir, train_caption_path, vocab, train_transform, batch_size, shuffle=True, num_workers=num_workers, testing=False) \n",
        "val_data_loader = get_loader(val_image_dir, val_caption_path, vocab, val_transform, batch_size, shuffle=False, num_workers=num_workers, testing=False)\n",
        "test_data_loader = get_loader(test_image_dir, test_caption_path, vocab, test_transform, batch_size, shuffle=False, num_workers=num_workers, testing=True)"
      ],
      "execution_count": 16,
      "outputs": []
    },
    {
      "cell_type": "code",
      "metadata": {
        "id": "KfnO2WuRAI9N",
        "colab": {
          "base_uri": "https://localhost:8080/",
          "height": 66,
          "referenced_widgets": [
            "879c2e03196a4201852563fccc7dc2e4",
            "2405f85639f14fc693ebccdca396cbda",
            "b08b91ea56534c98af69a32be134365f",
            "08399e980957467286c6876e0fb60bea",
            "409593b8f90d49d1a9e347eb610e4454",
            "e702fbf75cc04cdfad4f72d82e13373e",
            "eba1d9822435409daddf76f59b74666c",
            "d7e5e911db4c4c4080a483495a8a89a0",
            "92a60489088442fb9bcc627e88e40f7a",
            "e6d2b5efd3ee461ea51b0f41976d8952",
            "2d5b9aaa488b4754b524428fcb83b86c"
          ]
        },
        "outputId": "c2348dfa-b55a-4768-9115-1e59ad23a0a1"
      },
      "source": [
        "# Define model's hyper parameter\n",
        "embed_size = 256 \n",
        "hidden_size = 512 \n",
        "num_layers = 1 \n",
        "\n",
        "encoder = EncoderCNN(embed_size).to(device)\n",
        "decoder = DecoderRNN(embed_size, hidden_size, len(vocab), num_layers).to(device)\n",
        "\n",
        "num_epochs = 5\n",
        "learning_rate = 0.001\n",
        "\n",
        "log_step = 20 \n",
        "save_step = 1000 #\n",
        "\n",
        "criterion = nn.CrossEntropyLoss()\n",
        "params = list(decoder.parameters()) + list(encoder.linear.parameters()) + list(encoder.bn.parameters())\n",
        "optimizer = torch.optim.Adam(params, lr=learning_rate)"
      ],
      "execution_count": 17,
      "outputs": [
        {
          "output_type": "stream",
          "name": "stderr",
          "text": [
            "Downloading: \"https://download.pytorch.org/models/resnet101-63fe2227.pth\" to /root/.cache/torch/hub/checkpoints/resnet101-63fe2227.pth\n"
          ]
        },
        {
          "output_type": "display_data",
          "data": {
            "application/vnd.jupyter.widget-view+json": {
              "model_id": "879c2e03196a4201852563fccc7dc2e4",
              "version_minor": 0,
              "version_major": 2
            },
            "text/plain": [
              "  0%|          | 0.00/171M [00:00<?, ?B/s]"
            ]
          },
          "metadata": {}
        }
      ]
    },
    {
      "cell_type": "code",
      "metadata": {
        "id": "p9aKnsrAALb4"
      },
      "source": [
        "def load_image(image_path, transform=None):\n",
        "    image = Image.open(image_path).convert('RGB')\n",
        "    image = image.resize([224, 224], Image.LANCZOS)\n",
        "\n",
        "    if transform is not None:\n",
        "        image = transform(image).unsqueeze(0)\n",
        "    \n",
        "    return image\n",
        "\n",
        "image_path = \"./resized_test/images/5264507624.jpg\" \n",
        "encoder_path = \"./models/encoder-5.ckpt\" # path for trained encoder\n",
        "decoder_path = \"./models/decoder-5.ckpt\" # path for trained decoder\n",
        "vocab_path = \"./vocab.pkl\" # path for vocabulary wrapper\n",
        "\n",
        "# Model parameters (should be same as paramters in train.py)\n",
        "embed_size = 256 # dimension of word embedding vectors\n",
        "hidden_size = 512 # dimension of lstm hidden states\n",
        "num_layers = 1 # number of layers in lstm"
      ],
      "execution_count": 20,
      "outputs": []
    },
    {
      "cell_type": "code",
      "metadata": {
        "id": "XTnzomwVGc7T"
      },
      "source": [
        "# image preprocessing\n",
        "transform = transforms.Compose([\n",
        "    transforms.ToTensor(), \n",
        "    transforms.Normalize((0.485, 0.456, 0.406), (0.229, 0.224, 0.225))])\n",
        "\n",
        "# Load vocabulary wrapper\n",
        "with open(vocab_path, 'rb') as f:\n",
        "    vocab = pickle.load(f)\n",
        "\n",
        "# Build models\n",
        "encoder = EncoderCNN(embed_size).eval() # eval mode (batchnorm uses moving mean/variance)\n",
        "decoder = DecoderRNN(embed_size, hidden_size, len(vocab), num_layers)\n",
        "encoder = encoder.to(device)\n",
        "decoder = decoder.to(device)\n",
        "\n",
        "# Load the trained model parameters\n",
        "encoder.load_state_dict(torch.load(encoder_path))\n",
        "decoder.load_state_dict(torch.load(decoder_path))\n",
        "\n",
        "# Prepare an image\n",
        "image = load_image(image_path, transform)\n",
        "image_tensor = image.to(device)\n",
        "\n",
        "# Generate an caption from the image\n",
        "feature = encoder(image_tensor)\n",
        "sampled_ids = decoder.sample(feature)\n",
        "sampled_ids = sampled_ids[0].cpu().numpy() # (1, max_seq_length) -> (max_seq_length)\n",
        "\n",
        "# Convert word_ids to words\n",
        "sampled_caption = []\n",
        "for word_id in sampled_ids: \n",
        "    word = vocab.idx2word[word_id] \n",
        "    sampled_caption.append(word)\n",
        "    if word == '<end>':\n",
        "        break\n",
        "sentence = ' '.join(sampled_caption)"
      ],
      "execution_count": 22,
      "outputs": []
    },
    {
      "cell_type": "code",
      "metadata": {
        "id": "ik0dG86YGifK",
        "colab": {
          "base_uri": "https://localhost:8080/",
          "height": 286
        },
        "outputId": "c42a6089-4f8e-42c8-81ed-3c7395b0bcb7"
      },
      "source": [
        "import matplotlib.pyplot as plt\n",
        "import numpy as np\n",
        "image = Image.open(image_path)\n",
        "plt.imshow(np.asarray(image))\n",
        "plt.show()\n",
        "print(sentence)"
      ],
      "execution_count": 23,
      "outputs": [
        {
          "output_type": "display_data",
          "data": {
            "image/png": "[encoded data removed]",
            "text/plain": [
              "<Figure size 432x288 with 1 Axes>"
            ]
          },
          "metadata": {
            "needs_background": "light"
          }
        },
        {
          "output_type": "stream",
          "name": "stdout",
          "text": [
            "<start> a man in a yellow shirt is standing on a ladder . <end>\n"
          ]
        }
      ]
    },
    {
      "cell_type": "code",
      "metadata": {
        "id": "3xTL_D40HAER",
        "colab": {
          "base_uri": "https://localhost:8080/"
        },
        "outputId": "3fc28eca-e9d4-4f6d-f1b1-28ea541cf6a9"
      },
      "source": [
        "predictions = []\n",
        "answers = []\n",
        "answers_per_image = []\n",
        "\n",
        "total_step = len(test_data_loader)\n",
        "cnt = 0\n",
        "\n",
        "with torch.no_grad():\n",
        "    for i, (images, captions, lengths) in enumerate(test_data_loader):\n",
        "        images = images.to(device)\n",
        "        captions = captions.to(device)\n",
        "\n",
        "        # 순전파(forward) 진행\n",
        "        features = encoder(images)\n",
        "        sampled_ids_list = decoder.sample(features)\n",
        "\n",
        "        for index in range(len(images)):\n",
        "            sampled_ids = sampled_ids_list[index].cpu().numpy()\n",
        "\n",
        "            # 정답 문장(answer sentences)\n",
        "            answer = []\n",
        "            for word_id in captions[index]: # 하나씩 단어 인덱스를 확인하며\n",
        "                word = vocab.idx2word[word_id.item()] # 단어 문자열로 바꾸어 삽입\n",
        "                answer.append(word)\n",
        "                if word == '<end>':\n",
        "                    break\n",
        "            answers_per_image.append(answer[1:-1]) # 정답 문장을 삽입 (<sos>과 <eos>는 제외)\n",
        "\n",
        "            if (cnt + 1) % 5 == 0: # 이미지당 캡션이 5개씩 존재\n",
        "                answers.append(answers_per_image) # 5개를 한꺼번에 리스트로 삽입\n",
        "                answers_per_image = []\n",
        "\n",
        "                # 예측한 문장(predicted sentences)\n",
        "                prediction = []\n",
        "                for word_id in sampled_ids: # 하나씩 단어 인덱스를 확인하며\n",
        "                    word = vocab.idx2word[word_id] # 단어 문자열로 바꾸어 삽입\n",
        "                    prediction.append(word)\n",
        "                    if word == '<end>':\n",
        "                        break\n",
        "                predictions.append(prediction[1:-1]) # 예측한 문장에 대해서는 1개만 삽입 (<sos>과 <eos>는 제외)\n",
        "            cnt += 1\n",
        "\n",
        "        if i % log_step == 0:\n",
        "            print(f\"[ Testing ] Batch size: {i}/{total_step}\")"
      ],
      "execution_count": 24,
      "outputs": [
        {
          "output_type": "stream",
          "name": "stdout",
          "text": [
            "[ Testing ] Batch size: 0/217\n",
            "[ Testing ] Batch size: 20/217\n",
            "[ Testing ] Batch size: 40/217\n",
            "[ Testing ] Batch size: 60/217\n",
            "[ Testing ] Batch size: 80/217\n",
            "[ Testing ] Batch size: 100/217\n",
            "[ Testing ] Batch size: 120/217\n",
            "[ Testing ] Batch size: 140/217\n",
            "[ Testing ] Batch size: 160/217\n",
            "[ Testing ] Batch size: 180/217\n",
            "[ Testing ] Batch size: 200/217\n"
          ]
        }
      ]
    },
    {
      "cell_type": "code",
      "metadata": {
        "id": "82YORT6VyFYR",
        "colab": {
          "base_uri": "https://localhost:8080/"
        },
        "outputId": "09df834c-7fe7-4f2a-8734-f9b03c1a8155"
      },
      "source": [
        "print(\"예측한 문장의 수:\", len(predictions))\n",
        "print(\"정답 문장 집합의 수 (5개씩):\", len(answers))"
      ],
      "execution_count": 25,
      "outputs": [
        {
          "output_type": "stream",
          "name": "stdout",
          "text": [
            "예측한 문장의 수: 5533\n",
            "정답 문장 집합의 수 (5개씩): 5533\n"
          ]
        }
      ]
    },
    {
      "cell_type": "code",
      "metadata": {
        "id": "Ey4kXkTnyIMf",
        "colab": {
          "base_uri": "https://localhost:8080/"
        },
        "outputId": "78b035a4-d5b7-4c50-e2bd-0dec28d8ef70"
      },
      "source": [
        "index = 2\n",
        "print(\"[ 정답 캡션들 ]\")\n",
        "for answer in answers[index]:\n",
        "    print(answer)\n",
        "\n",
        "print(\"[ 예측된 캡션 ]\")\n",
        "print(predictions[index])"
      ],
      "execution_count": 26,
      "outputs": [
        {
          "output_type": "stream",
          "name": "stdout",
          "text": [
            "[ 정답 캡션들 ]\n",
            "['a', '<unk>', 'car', 'with', 'many', 'firefighters', 'cutting', 'into', 'the', 'car', '.']\n",
            "['emergency', 'personnel', 'work', 'at', 'the', 'scene', 'of', 'major', 'car', 'accident', 'between', 'a', 'car', 'and', 'a', 'pick-up', 'truck', '.']\n",
            "['firefighters', 'are', 'at', 'the', 'scene', 'of', 'a', 'car', 'accident', 'involving', 'two', 'vehicles']\n",
            "['firemen', 'clean', 'up', 'the', 'scene', 'of', 'a', 'major', 'motor', 'vehicle', 'accident']\n",
            "['two', 'cars', 'got', 'into', 'a', 'bad', 'accident', '.']\n",
            "[ 예측된 캡션 ]\n",
            "['a', 'group', 'of', 'construction', 'workers', 'are', 'working', 'on', 'a', 'railroad', 'track', '.']\n"
          ]
        }
      ]
    },
    {
      "cell_type": "code",
      "metadata": {
        "id": "Vzv7gpkdyK03",
        "colab": {
          "base_uri": "https://localhost:8080/"
        },
        "outputId": "eec3fd57-9fa3-4960-dee0-c8cfbcc9ad5a"
      },
      "source": [
        "from torchtext.data.metrics import bleu_score\n",
        "\n",
        "bleu = bleu_score(predictions, answers, max_n=4, weights=[0.25, 0.25, 0.25, 0.25])\n",
        "print(f'Total BLEU Score = {bleu * 100:.2f}')\n",
        "\n",
        "individual_bleu1_score = bleu_score(predictions, answers, max_n=4, weights=[1, 0, 0, 0])\n",
        "individual_bleu2_score = bleu_score(predictions, answers, max_n=4, weights=[0, 1, 0, 0])\n",
        "individual_bleu3_score = bleu_score(predictions, answers, max_n=4, weights=[0, 0, 1, 0])\n",
        "individual_bleu4_score = bleu_score(predictions, answers, max_n=4, weights=[0, 0, 0, 1])\n",
        "\n",
        "print(f'Individual BLEU1 score = {individual_bleu1_score * 100:.2f}') \n",
        "print(f'Individual BLEU2 score = {individual_bleu2_score * 100:.2f}') \n",
        "print(f'Individual BLEU3 score = {individual_bleu3_score * 100:.2f}') \n",
        "print(f'Individual BLEU4 score = {individual_bleu4_score * 100:.2f}') \n",
        "\n",
        "cumulative_bleu1_score = bleu_score(predictions, answers, max_n=4, weights=[1, 0, 0, 0])\n",
        "cumulative_bleu2_score = bleu_score(predictions, answers, max_n=4, weights=[1/2, 1/2, 0, 0])\n",
        "cumulative_bleu3_score = bleu_score(predictions, answers, max_n=4, weights=[1/3, 1/3, 1/3, 0])\n",
        "cumulative_bleu4_score = bleu_score(predictions, answers, max_n=4, weights=[1/4, 1/4, 1/4, 1/4])\n",
        "\n",
        "print(f'Cumulative BLEU1 score = {cumulative_bleu1_score * 100:.2f}') \n",
        "print(f'Cumulative BLEU2 score = {cumulative_bleu2_score * 100:.2f}') \n",
        "print(f'Cumulative BLEU3 score = {cumulative_bleu3_score * 100:.2f}') \n",
        "print(f'Cumulative BLEU4 score = {cumulative_bleu4_score * 100:.2f}')"
      ],
      "execution_count": 27,
      "outputs": [
        {
          "output_type": "stream",
          "name": "stdout",
          "text": [
            "Total BLEU Score = 14.12\n",
            "Individual BLEU1 score = 57.63\n",
            "Individual BLEU2 score = 22.01\n",
            "Individual BLEU3 score = 8.65\n",
            "Individual BLEU4 score = 3.63\n",
            "Cumulative BLEU1 score = 57.63\n",
            "Cumulative BLEU2 score = 35.62\n",
            "Cumulative BLEU3 score = 22.22\n",
            "Cumulative BLEU4 score = 14.12\n"
          ]
        }
      ]
    },
    {
      "cell_type": "code",
      "metadata": {
        "id": "Mk7rOIXskHig"
      },
      "source": [
        ""
      ],
      "execution_count": null,
      "outputs": []
    }
  ]
}