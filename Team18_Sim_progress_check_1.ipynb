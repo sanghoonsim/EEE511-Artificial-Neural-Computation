{
  "nbformat": 4,
  "nbformat_minor": 0,
  "metadata": {
    "colab": {
      "name": "Team18_Sim_progress_check_1.ipynb",
      "provenance": [],
      "authorship_tag": "ABX9TyOTdOSpkI22NEO3oj7dvbTW",
      "include_colab_link": true
    },
    "kernelspec": {
      "name": "python3",
      "display_name": "Python 3"
    },
    "language_info": {
      "name": "python"
    },
    "accelerator": "GPU"
  },
  "cells": [
    {
      "cell_type": "markdown",
      "metadata": {
        "id": "view-in-github",
        "colab_type": "text"
      },
      "source": [
        "<a href=\"https://colab.research.google.com/github/sanghoonsim/EEE511-Artificial-Neural-Computation/blob/main/Team18_Sim_progress_check_1.ipynb\" target=\"_parent\"><img src=\"https://colab.research.google.com/assets/colab-badge.svg\" alt=\"Open In Colab\"/></a>"
      ]
    },
    {
      "cell_type": "code",
      "metadata": {
        "colab": {
          "base_uri": "https://localhost:8080/"
        },
        "id": "9RlsaX-diEk0",
        "outputId": "f7d72058-aa6b-40ec-9974-6e5354b28d67"
      },
      "source": [
        "# Download Flickr8k and unzip\n",
        "!wget https://postechackr-my.sharepoint.com/:u:/g/personal/dongbinna_postech_ac_kr/EXVy7_7pF5FIsPp6WfXXfWgBNfUKx8N1VrTisN8FbGYG9w?download=1 -O Flickr8k_dataset.zip"
      ],
      "execution_count": 1,
      "outputs": [
        {
          "output_type": "stream",
          "name": "stdout",
          "text": [
            "--2021-10-07 21:38:47--  https://postechackr-my.sharepoint.com/:u:/g/personal/dongbinna_postech_ac_kr/EXVy7_7pF5FIsPp6WfXXfWgBNfUKx8N1VrTisN8FbGYG9w?download=1\n",
            "Resolving postechackr-my.sharepoint.com (postechackr-my.sharepoint.com)... 13.107.136.9, 13.107.138.9\n",
            "Connecting to postechackr-my.sharepoint.com (postechackr-my.sharepoint.com)|13.107.136.9|:443... connected.\n",
            "HTTP request sent, awaiting response... 302 Found\n",
            "Location: /personal/dongbinna_postech_ac_kr/Documents/Research/datasets/Flickr8k_dataset.zip?originalPath=aHR0cHM6Ly9wb3N0ZWNoYWNrci1teS5zaGFyZXBvaW50LmNvbS86dTovZy9wZXJzb25hbC9kb25nYmlubmFfcG9zdGVjaF9hY19rci9FWFZ5N183cEY1RklzUHA2V2ZYWGZXZ0JOZlVLeDhOMVZyVGlzTjhGYkdZRzl3P3J0aW1lPXV1NUQyZHFKMlVn [following]\n",
            "--2021-10-07 21:38:49--  https://postechackr-my.sharepoint.com/personal/dongbinna_postech_ac_kr/Documents/Research/datasets/Flickr8k_dataset.zip?originalPath=aHR0cHM6Ly9wb3N0ZWNoYWNrci1teS5zaGFyZXBvaW50LmNvbS86dTovZy9wZXJzb25hbC9kb25nYmlubmFfcG9zdGVjaF9hY19rci9FWFZ5N183cEY1RklzUHA2V2ZYWGZXZ0JOZlVLeDhOMVZyVGlzTjhGYkdZRzl3P3J0aW1lPXV1NUQyZHFKMlVn\n",
            "Reusing existing connection to postechackr-my.sharepoint.com:443.\n",
            "HTTP request sent, awaiting response... 200 OK\n",
            "Length: 1112971163 (1.0G) [application/x-zip-compressed]\n",
            "Saving to: ‘Flickr8k_dataset.zip’\n",
            "\n",
            "Flickr8k_dataset.zi 100%[===================>]   1.04G  25.6MB/s    in 42s     \n",
            "\n",
            "2021-10-07 21:39:31 (25.2 MB/s) - ‘Flickr8k_dataset.zip’ saved [1112971163/1112971163]\n",
            "\n"
          ]
        }
      ]
    },
    {
      "cell_type": "code",
      "metadata": {
        "id": "uHBNxoMEiVKq"
      },
      "source": [
        "%%capture\n",
        "!unzip Flickr8k_dataset.zip -d ./Flickr8k_dataset"
      ],
      "execution_count": 2,
      "outputs": []
    },
    {
      "cell_type": "code",
      "metadata": {
        "id": "ZGP75xTYihtL",
        "colab": {
          "base_uri": "https://localhost:8080/"
        },
        "outputId": "73d14e94-7eca-4f45-dfca-397e4fe2c18d"
      },
      "source": [
        "# Install library to calculate BLEU Score\n",
        "!pip install torchtext==0.6.0"
      ],
      "execution_count": 3,
      "outputs": [
        {
          "output_type": "stream",
          "name": "stdout",
          "text": [
            "Collecting torchtext==0.6.0\n",
            "  Downloading torchtext-0.6.0-py3-none-any.whl (64 kB)\n",
            "\u001b[?25l\r\u001b[K     |█████                           | 10 kB 22.1 MB/s eta 0:00:01\r\u001b[K     |██████████▏                     | 20 kB 15.9 MB/s eta 0:00:01\r\u001b[K     |███████████████▎                | 30 kB 9.9 MB/s eta 0:00:01\r\u001b[K     |████████████████████▍           | 40 kB 4.5 MB/s eta 0:00:01\r\u001b[K     |█████████████████████████▌      | 51 kB 5.1 MB/s eta 0:00:01\r\u001b[K     |██████████████████████████████▋ | 61 kB 5.5 MB/s eta 0:00:01\r\u001b[K     |████████████████████████████████| 64 kB 2.0 MB/s \n",
            "\u001b[?25hRequirement already satisfied: six in /usr/local/lib/python3.7/dist-packages (from torchtext==0.6.0) (1.15.0)\n",
            "Requirement already satisfied: requests in /usr/local/lib/python3.7/dist-packages (from torchtext==0.6.0) (2.23.0)\n",
            "Requirement already satisfied: numpy in /usr/local/lib/python3.7/dist-packages (from torchtext==0.6.0) (1.19.5)\n",
            "Requirement already satisfied: tqdm in /usr/local/lib/python3.7/dist-packages (from torchtext==0.6.0) (4.62.3)\n",
            "Collecting sentencepiece\n",
            "  Downloading sentencepiece-0.1.96-cp37-cp37m-manylinux_2_17_x86_64.manylinux2014_x86_64.whl (1.2 MB)\n",
            "\u001b[K     |████████████████████████████████| 1.2 MB 10.7 MB/s \n",
            "\u001b[?25hRequirement already satisfied: torch in /usr/local/lib/python3.7/dist-packages (from torchtext==0.6.0) (1.9.0+cu111)\n",
            "Requirement already satisfied: certifi>=2017.4.17 in /usr/local/lib/python3.7/dist-packages (from requests->torchtext==0.6.0) (2021.5.30)\n",
            "Requirement already satisfied: urllib3!=1.25.0,!=1.25.1,<1.26,>=1.21.1 in /usr/local/lib/python3.7/dist-packages (from requests->torchtext==0.6.0) (1.24.3)\n",
            "Requirement already satisfied: chardet<4,>=3.0.2 in /usr/local/lib/python3.7/dist-packages (from requests->torchtext==0.6.0) (3.0.4)\n",
            "Requirement already satisfied: idna<3,>=2.5 in /usr/local/lib/python3.7/dist-packages (from requests->torchtext==0.6.0) (2.10)\n",
            "Requirement already satisfied: typing-extensions in /usr/local/lib/python3.7/dist-packages (from torch->torchtext==0.6.0) (3.7.4.3)\n",
            "Installing collected packages: sentencepiece, torchtext\n",
            "  Attempting uninstall: torchtext\n",
            "    Found existing installation: torchtext 0.10.0\n",
            "    Uninstalling torchtext-0.10.0:\n",
            "      Successfully uninstalled torchtext-0.10.0\n",
            "Successfully installed sentencepiece-0.1.96 torchtext-0.6.0\n"
          ]
        }
      ]
    },
    {
      "cell_type": "code",
      "metadata": {
        "id": "2g0vC52tiwL5",
        "colab": {
          "base_uri": "https://localhost:8080/"
        },
        "outputId": "686f8579-05fe-4329-cf6b-bababbedd1a4"
      },
      "source": [
        "# Resize all the images in the dataset\n",
        "import os\n",
        "from PIL import Image\n",
        "\n",
        "image_dir = \"./Flickr8k_dataset/Images\" # Path to original image\n",
        "train_image_dir = \"./resized_train/images\" # Path to resized image(Training)\n",
        "val_image_dir = \"./resized_val/images\" # Path to resized image(Validation)\n",
        "test_image_dir = \"./resized_test/images\" # Path to resized image(Testing)\n",
        "size = [256, 256] # size of resized image\n",
        "\n",
        "\n",
        "def resize_image(image, size):\n",
        "    return image.resize(size, Image.ANTIALIAS)\n",
        "\n",
        "# Move the resized image in the image_dir to the result folder(Learning, Validation and Testing)\n",
        "if not os.path.exists(train_image_dir):\n",
        "    os.makedirs(train_image_dir)\n",
        "if not os.path.exists(val_image_dir):\n",
        "    os.makedirs(val_image_dir)\n",
        "if not os.path.exists(test_image_dir):\n",
        "    os.makedirs(test_image_dir)\n",
        "\n",
        "images = sorted(os.listdir(image_dir)) # Sorting both image and caption by name\n",
        "num_images = len(images)\n",
        "num_train_images = 6000 # 6000 for Learning data\n",
        "num_val_images = 1000 # 1000 for validation\n",
        "\n",
        "for i, image in enumerate(images):\n",
        "    if (i + 1) <= num_train_images:\n",
        "        output_dir = train_image_dir\n",
        "    elif (i + 1) <= num_train_images + num_val_images:\n",
        "        output_dir = val_image_dir\n",
        "    else:\n",
        "        output_dir = test_image_dir\n",
        "    with open(os.path.join(image_dir, image), 'rb+') as f:\n",
        "        with Image.open(f) as img:\n",
        "            img = resize_image(img, size)\n",
        "            img.save(os.path.join(output_dir, image), img.format)\n",
        "    if (i + 1) % 500 == 0:\n",
        "        print(f\"[{i + 1}/{num_images}] Resized the images and saved into '{output_dir}'\")"
      ],
      "execution_count": 4,
      "outputs": [
        {
          "output_type": "stream",
          "name": "stdout",
          "text": [
            "[500/8091] Resized the images and saved into './resized_train/images'\n",
            "[1000/8091] Resized the images and saved into './resized_train/images'\n",
            "[1500/8091] Resized the images and saved into './resized_train/images'\n",
            "[2000/8091] Resized the images and saved into './resized_train/images'\n",
            "[2500/8091] Resized the images and saved into './resized_train/images'\n",
            "[3000/8091] Resized the images and saved into './resized_train/images'\n",
            "[3500/8091] Resized the images and saved into './resized_train/images'\n",
            "[4000/8091] Resized the images and saved into './resized_train/images'\n",
            "[4500/8091] Resized the images and saved into './resized_train/images'\n",
            "[5000/8091] Resized the images and saved into './resized_train/images'\n",
            "[5500/8091] Resized the images and saved into './resized_train/images'\n",
            "[6000/8091] Resized the images and saved into './resized_train/images'\n",
            "[6500/8091] Resized the images and saved into './resized_val/images'\n",
            "[7000/8091] Resized the images and saved into './resized_val/images'\n",
            "[7500/8091] Resized the images and saved into './resized_test/images'\n",
            "[8000/8091] Resized the images and saved into './resized_test/images'\n"
          ]
        }
      ]
    },
    {
      "cell_type": "code",
      "metadata": {
        "id": "D9yMciqai22v",
        "colab": {
          "base_uri": "https://localhost:8080/"
        },
        "outputId": "284b8909-6381-4f71-e880-7bd4e9d72b8e"
      },
      "source": [
        "# Build vocabs using captions\n",
        "import pickle\n",
        "import nltk\n",
        "from collections import Counter\n",
        "\n",
        "nltk.download('punkt')\n",
        "\n",
        "caption_path = \"./Flickr8k_dataset/captions.txt\" # Original caption file\n",
        "vocab_path = \"./vocab.pkl\" # vocabs\n",
        "word_threshold = 4 # the minumum nuber of appearance\n",
        "train_caption_path = \"./resized_train/captions.txt\" # Path to captions of resized image(Training)\n",
        "val_caption_path = \"./resized_val/captions.txt\" # Path to captions of resized image(Validation)\n",
        "test_caption_path = \"./resized_test/captions.txt\" # Path to captions of resized image(Testing)\n",
        "\n",
        "\n",
        "class Vocabulary(object):\n",
        "    \"\"\"Simple vocabulary wrapper.\"\"\"\n",
        "    def __init__(self):\n",
        "        self.word2idx = {}\n",
        "        self.idx2word = {}\n",
        "        self.idx = 0\n",
        "\n",
        "    def add_word(self, word):\n",
        "        if not word in self.word2idx:\n",
        "            self.word2idx[word] = self.idx\n",
        "            self.idx2word[self.idx] = word\n",
        "            self.idx += 1\n",
        "\n",
        "    def __call__(self, word):\n",
        "        if not word in self.word2idx:\n",
        "            return self.word2idx['<unk>']\n",
        "        return self.word2idx[word]\n",
        "\n",
        "    def __len__(self):\n",
        "        return len(self.word2idx)\n",
        "\n",
        "counter = Counter()\n",
        "\n",
        "with open(caption_path, \"r\") as f:\n",
        "    lines = sorted(f.readlines()[1:])\n",
        "    for i in range(len(lines)):\n",
        "        line = lines[i]\n",
        "        if (i + 1) <= num_train_images * 5: # 5 captions per image\n",
        "            output_caption = train_caption_path\n",
        "        elif (i + 1) <= (num_train_images + num_val_images) * 5:\n",
        "            output_caption = val_caption_path\n",
        "        else:\n",
        "            output_caption = test_caption_path\n",
        "        index = line.find(\",\") # Find the starting point of caption\n",
        "        caption = line[index + 1:] # Recording character of captions\n",
        "        tokens = nltk.tokenize.word_tokenize(caption.lower()) # Tokenization\n",
        "        counter.update(tokens) # Count token\n",
        "        with open(output_caption, \"a\") as output_caption_f:\n",
        "            output_caption_f.write(line)\n",
        "\n",
        "# only if when it surpass the threshold\n",
        "words = [word for word, cnt in counter.items() if cnt >= word_threshold]\n",
        "\n",
        "vocab = Vocabulary()\n",
        "vocab.add_word('<pad>')\n",
        "vocab.add_word('<start>')\n",
        "vocab.add_word('<end>')\n",
        "vocab.add_word('<unk>') # unknown\n",
        "\n",
        "# assign all the words to Vocabulary object\n",
        "for word in words:\n",
        "    vocab.add_word(word)\n",
        "\n",
        "# Save vocabulary\n",
        "with open(vocab_path, 'wb') as f:\n",
        "    pickle.dump(vocab, f)"
      ],
      "execution_count": 5,
      "outputs": [
        {
          "output_type": "stream",
          "name": "stdout",
          "text": [
            "[nltk_data] Downloading package punkt to /root/nltk_data...\n",
            "[nltk_data]   Unzipping tokenizers/punkt.zip.\n"
          ]
        }
      ]
    },
    {
      "cell_type": "code",
      "metadata": {
        "id": "q-95RLBujcZy",
        "colab": {
          "base_uri": "https://localhost:8080/"
        },
        "outputId": "b55b0e50-ac18-49c3-f13d-9da1285cbef6"
      },
      "source": [
        "# The number of captions(Training) in dataset\n",
        "!wc -l ./resized_train/captions.txt\n",
        "# The number of captions(Val) in dataset\n",
        "!wc -l ./resized_val/captions.txt\n",
        "# The number of captions(Testing) in dataset\n",
        "!wc -l ./resized_test/captions.txt"
      ],
      "execution_count": 6,
      "outputs": [
        {
          "output_type": "stream",
          "name": "stdout",
          "text": [
            "30000 ./resized_train/captions.txt\n",
            "5000 ./resized_val/captions.txt\n",
            "5455 ./resized_test/captions.txt\n"
          ]
        }
      ]
    },
    {
      "cell_type": "code",
      "metadata": {
        "id": "iyZEWV18lX6a"
      },
      "source": [
        "# Define Flickr8kDataset Class\n",
        "import torch.utils.data as data\n",
        "\n",
        "class Flickr8kDataset(data.Dataset):\n",
        "    def __init__(self, root, captions, vocab, transform=None):\n",
        "        self.root = root # Path to image\n",
        "        with open(captions, \"r\") as f:\n",
        "             lines = f.readlines()\n",
        "             self.captions = [] # list to store the information of the captions\n",
        "             for line in lines:\n",
        "                index = line.find(\",\") # find the starting point\n",
        "                path = line[:index] # name of image file\n",
        "                caption = line[index + 1:] # record caption\n",
        "                self.captions.append((path, caption))\n",
        "        self.vocab = vocab\n",
        "        self.transform = transform\n",
        "\n",
        "    # retrieve the image and caption one by one\n",
        "    def __getitem__(self, index):\n",
        "        vocab = self.vocab\n",
        "        path = self.captions[index][0]\n",
        "        caption = self.captions[index][1]\n",
        "\n",
        "        image = Image.open(os.path.join(self.root, path)).convert('RGB')\n",
        "        if self.transform is not None:\n",
        "            image = self.transform(image)\n",
        "\n",
        "        # tokenization of the caption\n",
        "        tokens = nltk.tokenize.word_tokenize(str(caption).lower())\n",
        "        caption = []\n",
        "        caption.append(vocab('<start>'))\n",
        "        caption.extend([vocab(token) for token in tokens])\n",
        "        caption.append(vocab('<end>'))\n",
        "        target = torch.Tensor(caption)\n",
        "        return image, target\n",
        "\n",
        "    def __len__(self):\n",
        "        return len(self.captions)"
      ],
      "execution_count": 7,
      "outputs": []
    },
    {
      "cell_type": "code",
      "metadata": {
        "id": "KB_ftxdfmDH-"
      },
      "source": [
        "def collate_fn(data):\n",
        "    data.sort(key=lambda x: len(x[1]), reverse=True)\n",
        "    images, captions = zip(*data)\n",
        "\n",
        "    images = torch.stack(images, 0)\n",
        "\n",
        "    lengths = [len(caption) for caption in captions]\n",
        "    targets = torch.zeros(len(captions), max(lengths)).long()\n",
        "    for i, cap in enumerate(captions):\n",
        "        end = lengths[i]\n",
        "        targets[i, :end] = cap[:end]\n",
        "    return images, targets, lengths\n",
        "\n",
        "def collate_fn_test(data):\n",
        "    images, captions = zip(*data)\n",
        "\n",
        "    images = torch.stack(images, 0)\n",
        "\n",
        "    lengths = [len(caption) for caption in captions]\n",
        "    targets = torch.zeros(len(captions), max(lengths)).long()\n",
        "    for i, cap in enumerate(captions):\n",
        "        end = lengths[i]\n",
        "        targets[i, :end] = cap[:end]\n",
        "    return images, targets, lengths\n",
        "\n",
        "def get_loader(root, captions, vocab, transform, batch_size, shuffle, num_workers, testing):\n",
        "    flickr8k = Flickr8kDataset(root=root, captions=captions, vocab=vocab, transform=transform)\n",
        "    if not testing:\n",
        "        data_loader = torch.utils.data.DataLoader(dataset=flickr8k, batch_size=batch_size, shuffle=shuffle, num_workers=num_workers, collate_fn=collate_fn)\n",
        "    else:\n",
        "        data_loader = torch.utils.data.DataLoader(dataset=flickr8k, batch_size=batch_size, shuffle=shuffle, num_workers=num_workers, collate_fn=collate_fn_test)\n",
        "    return data_loader"
      ],
      "execution_count": 8,
      "outputs": []
    },
    {
      "cell_type": "code",
      "metadata": {
        "id": "K_y28UIFmQYq"
      },
      "source": [
        "import torch\n",
        "import torch.nn as nn\n",
        "import torchvision.models as models\n",
        "from torch.nn.utils.rnn import pack_padded_sequence\n",
        "\n",
        "\n",
        "class EncoderCNN(nn.Module):\n",
        "    def __init__(self, embed_size):\n",
        "        super(EncoderCNN, self).__init__()\n",
        "        resnet = models.resnet101(pretrained=True)\n",
        "        modules = list(resnet.children())[:-1] \n",
        "        self.resnet = nn.Sequential(*modules)\n",
        "        self.linear = nn.Linear(resnet.fc.in_features, embed_size)\n",
        "        self.bn = nn.BatchNorm1d(embed_size, momentum=0.01)\n",
        "\n",
        "    def forward(self, images):\n",
        "        with torch.no_grad(): \n",
        "            features = self.resnet(images)\n",
        "        features = features.reshape(features.size(0), -1)\n",
        "        features = self.bn(self.linear(features))\n",
        "        return features\n",
        "\n",
        "\n",
        "class DecoderRNN(nn.Module):\n",
        "    def __init__(self, embed_size, hidden_size, vocab_size, num_layers, max_seq_length=20):\n",
        "        super(DecoderRNN, self).__init__()\n",
        "        self.embed = nn.Embedding(vocab_size, embed_size)\n",
        "        self.lstm = nn.LSTM(embed_size, hidden_size, num_layers, batch_first=True)\n",
        "        self.linear = nn.Linear(hidden_size, vocab_size)\n",
        "        self.max_seg_length = max_seq_length\n",
        "\n",
        "    def forward(self, features, captions, lengths):\n",
        "        embeddings = self.embed(captions)\n",
        "        embeddings = torch.cat((features.unsqueeze(1), embeddings), 1) \n",
        "        packed = pack_padded_sequence(embeddings, lengths, batch_first=True) \n",
        "        hiddens, _ = self.lstm(packed) \n",
        "        outputs = self.linear(hiddens[0])\n",
        "        return outputs\n",
        "\n",
        "    def sample(self, features, states=None):\n",
        "\n",
        "        sampled_indexes = []\n",
        "        inputs = features.unsqueeze(1)\n",
        "        for i in range(self.max_seg_length):\n",
        "            hiddens, states = self.lstm(inputs, states) # hiddens: (batch_size, 1, hidden_size)\n",
        "            outputs = self.linear(hiddens.squeeze(1)) # outputs: (batch_size, vocab_size)\n",
        "            _, predicted = outputs.max(1) # predicted: (batch_size)\n",
        "            sampled_indexes.append(predicted)\n",
        "            inputs = self.embed(predicted) # inputs: (batch_size, embed_size)\n",
        "            inputs = inputs.unsqueeze(1) # inputs: (batch_size, 1, embed_size)\n",
        "        sampled_indexes = torch.stack(sampled_indexes, 1) # sampled_indexes: (batch_size, max_seq_length)\n",
        "        return sampled_indexes"
      ],
      "execution_count": 9,
      "outputs": []
    },
    {
      "cell_type": "code",
      "metadata": {
        "id": "eFyRDoMMmcNQ"
      },
      "source": [
        "import torch\n",
        "from torch.nn.utils.rnn import pack_padded_sequence\n",
        "from torchvision import transforms\n",
        "\n",
        "device = torch.device('cuda' if torch.cuda.is_available() else 'cpu')\n",
        "\n",
        "model_path = \"models/\" \n",
        "crop_size = 224 \n",
        "vocab_path = \"./vocab.pkl\" \n",
        "\n",
        "if not os.path.exists(model_path):\n",
        "    os.makedirs(model_path)\n",
        "\n",
        "with open(vocab_path, 'rb') as f:\n",
        "    vocab = pickle.load(f)\n",
        "\n",
        "train_transform = transforms.Compose([ \n",
        "    transforms.RandomCrop(crop_size),\n",
        "    transforms.RandomHorizontalFlip(), \n",
        "    transforms.ToTensor(), \n",
        "    transforms.Normalize((0.485, 0.456, 0.406), (0.229, 0.224, 0.225))])\n",
        "\n",
        "val_transform = transforms.Compose([ \n",
        "    transforms.Resize(crop_size), \n",
        "    transforms.ToTensor(), \n",
        "    transforms.Normalize((0.485, 0.456, 0.406), (0.229, 0.224, 0.225))])\n",
        "\n",
        "test_transform = transforms.Compose([ \n",
        "    transforms.Resize(crop_size), \n",
        "    transforms.ToTensor(), \n",
        "    transforms.Normalize((0.485, 0.456, 0.406), (0.229, 0.224, 0.225))])\n",
        "\n",
        "batch_size = 128\n",
        "num_workers = 2\n",
        "\n",
        "train_data_loader = get_loader(train_image_dir, train_caption_path, vocab, train_transform, batch_size, shuffle=True, num_workers=num_workers, testing=False) \n",
        "val_data_loader = get_loader(val_image_dir, val_caption_path, vocab, val_transform, batch_size, shuffle=False, num_workers=num_workers, testing=False)\n",
        "test_data_loader = get_loader(test_image_dir, test_caption_path, vocab, test_transform, batch_size, shuffle=False, num_workers=num_workers, testing=True)"
      ],
      "execution_count": 10,
      "outputs": []
    },
    {
      "cell_type": "code",
      "metadata": {
        "id": "5V0Zs7kXmiHQ",
        "colab": {
          "base_uri": "https://localhost:8080/",
          "height": 66
        },
        "outputId": "1162d6e7-cc3b-48a8-ab62-71f867bb5cfb"
      },
      "source": [
        "embed_size = 256 \n",
        "hidden_size = 512 \n",
        "num_layers = 1 \n",
        "\n",
        "\n",
        "encoder = EncoderCNN(embed_size).to(device)\n",
        "decoder = DecoderRNN(embed_size, hidden_size, len(vocab), num_layers).to(device)\n",
        "\n",
        "num_epochs = 5\n",
        "learning_rate = 0.001\n",
        "\n",
        "log_step = 20 \n",
        "save_step = 1000 #\n",
        "\n",
        "criterion = nn.CrossEntropyLoss()\n",
        "params = list(decoder.parameters()) + list(encoder.linear.parameters()) + list(encoder.bn.parameters())\n",
        "optimizer = torch.optim.Adam(params, lr=learning_rate)"
      ],
      "execution_count": 11,
      "outputs": [
        {
          "output_type": "stream",
          "name": "stderr",
          "text": [
            "Downloading: \"https://download.pytorch.org/models/resnet101-63fe2227.pth\" to /root/.cache/torch/hub/checkpoints/resnet101-63fe2227.pth\n"
          ]
        },
        {
          "output_type": "display_data",
          "data": {
            "application/vnd.jupyter.widget-view+json": {
              "model_id": "802e67c47e134730884929bb19f08fc0",
              "version_minor": 0,
              "version_major": 2
            },
            "text/plain": [
              "  0%|          | 0.00/171M [00:00<?, ?B/s]"
            ]
          },
          "metadata": {}
        }
      ]
    },
    {
      "cell_type": "code",
      "metadata": {
        "id": "xnIsKgcHmneH",
        "colab": {
          "base_uri": "https://localhost:8080/"
        },
        "outputId": "3482695a-be19-4187-8bcf-057f6cd7ddf7"
      },
      "source": [
        "import time\n",
        "import numpy as np\n",
        "\n",
        "start_time = time.time() # 전체 학습 시간 측정\n",
        "\n",
        "for epoch in range(num_epochs):\n",
        "\n",
        "    print(\"[ Training ]\")\n",
        "    total_loss = 0\n",
        "    total_count = 0\n",
        "    total_step = len(train_data_loader)\n",
        "    for i, (images, captions, lengths) in enumerate(train_data_loader):\n",
        "        images = images.to(device)\n",
        "        captions = captions.to(device)\n",
        "        targets = pack_padded_sequence(captions, lengths, batch_first=True)[0]\n",
        "\n",
        "        features = encoder(images)\n",
        "        outputs = decoder(features, captions, lengths)\n",
        "        loss = criterion(outputs, targets)\n",
        "        decoder.zero_grad()\n",
        "        encoder.zero_grad()\n",
        "        loss.backward()\n",
        "        optimizer.step()\n",
        "\n",
        "\n",
        "        total_loss += loss.item()\n",
        "        total_count += images.shape[0]\n",
        "\n",
        "        if i % log_step == 0:\n",
        "            print('Epoch [{}/{}], Step [{}/{}], Average Loss: {:.4f}, Perplexity: {:5.4f}, Elapsed time: {:.4f}s'\n",
        "                  .format(epoch, num_epochs, i, total_step, total_loss / total_count, np.exp(loss.item()), time.time() - start_time))\n",
        "\n",
        "    torch.save(decoder.state_dict(), os.path.join(model_path, f'decoder-{epoch + 1}.ckpt'))\n",
        "    torch.save(encoder.state_dict(), os.path.join(model_path, f'encoder-{epoch + 1}.ckpt'))\n",
        "    print(f\"Model saved: {os.path.join(model_path, f'decoder-{epoch + 1}.ckpt')}\")\n",
        "    print(f\"Model saved: {os.path.join(model_path, f'encoder-{epoch + 1}.ckpt')}\")\n",
        "\n",
        "    print(\"[ Validation ]\")\n",
        "    total_loss = 0\n",
        "    total_count = 0\n",
        "    total_step = len(val_data_loader)\n",
        "    with torch.no_grad():\n",
        "        for i, (images, captions, lengths) in enumerate(val_data_loader):\n",
        "            images = images.to(device)\n",
        "            captions = captions.to(device)\n",
        "            targets = pack_padded_sequence(captions, lengths, batch_first=True)[0]\n",
        "\n",
        "            features = encoder(images)\n",
        "            outputs = decoder(features, captions, lengths)\n",
        "            loss = criterion(outputs, targets)\n",
        "  \n",
        "            total_loss += loss.item()\n",
        "            total_count += images.shape[0]\n",
        "\n",
        "            if i % log_step == 0:\n",
        "                print('Epoch [{}/{}], Step [{}/{}], Average Loss: {:.4f}, Perplexity: {:5.4f}, Elapsed time: {:.4f}s'\n",
        "                      .format(epoch, num_epochs, i, total_step, total_loss / total_count, np.exp(loss.item()), time.time() - start_time))"
      ],
      "execution_count": 12,
      "outputs": [
        {
          "output_type": "stream",
          "name": "stdout",
          "text": [
            "[ Training ]\n"
          ]
        },
        {
          "output_type": "stream",
          "name": "stderr",
          "text": [
            "/usr/local/lib/python3.7/dist-packages/torch/nn/functional.py:718: UserWarning: Named tensors and all their associated APIs are an experimental feature and subject to change. Please do not use them for anything important until they are released as stable. (Triggered internally at  /pytorch/c10/core/TensorImpl.h:1156.)\n",
            "  return torch.max_pool2d(input, kernel_size, stride, padding, dilation, ceil_mode)\n"
          ]
        },
        {
          "output_type": "stream",
          "name": "stdout",
          "text": [
            "Epoch [0/5], Step [0/235], Average Loss: 0.0636, Perplexity: 3410.4115, Elapsed time: 2.7563s\n",
            "Epoch [0/5], Step [20/235], Average Loss: 0.0467, Perplexity: 123.3306, Elapsed time: 29.5058s\n",
            "Epoch [0/5], Step [40/235], Average Loss: 0.0409, Perplexity: 61.6006, Elapsed time: 56.4200s\n",
            "Epoch [0/5], Step [60/235], Average Loss: 0.0375, Perplexity: 42.6685, Elapsed time: 83.4960s\n",
            "Epoch [0/5], Step [80/235], Average Loss: 0.0353, Perplexity: 36.8551, Elapsed time: 110.6349s\n",
            "Epoch [0/5], Step [100/235], Average Loss: 0.0338, Perplexity: 30.9398, Elapsed time: 137.9570s\n",
            "Epoch [0/5], Step [120/235], Average Loss: 0.0325, Perplexity: 27.4530, Elapsed time: 165.3254s\n",
            "Epoch [0/5], Step [140/235], Average Loss: 0.0316, Perplexity: 27.5160, Elapsed time: 192.7702s\n",
            "Epoch [0/5], Step [160/235], Average Loss: 0.0308, Perplexity: 25.0178, Elapsed time: 220.0896s\n",
            "Epoch [0/5], Step [180/235], Average Loss: 0.0301, Perplexity: 24.0568, Elapsed time: 247.4856s\n",
            "Epoch [0/5], Step [200/235], Average Loss: 0.0296, Perplexity: 24.2464, Elapsed time: 274.8500s\n",
            "Epoch [0/5], Step [220/235], Average Loss: 0.0291, Perplexity: 21.7490, Elapsed time: 302.2370s\n",
            "Model saved: models/decoder-1.ckpt\n",
            "Model saved: models/encoder-1.ckpt\n",
            "[ Validation ]\n",
            "Epoch [0/5], Step [0/40], Average Loss: 0.0236, Perplexity: 20.4111, Elapsed time: 323.5634s\n",
            "Epoch [0/5], Step [20/40], Average Loss: 0.0243, Perplexity: 23.5682, Elapsed time: 350.4487s\n",
            "[ Training ]\n",
            "Epoch [1/5], Step [0/235], Average Loss: 0.0228, Perplexity: 18.5963, Elapsed time: 377.0776s\n",
            "Epoch [1/5], Step [20/235], Average Loss: 0.0227, Perplexity: 16.5353, Elapsed time: 404.4867s\n",
            "Epoch [1/5], Step [40/235], Average Loss: 0.0227, Perplexity: 19.5538, Elapsed time: 431.8596s\n",
            "Epoch [1/5], Step [60/235], Average Loss: 0.0226, Perplexity: 19.2667, Elapsed time: 459.2310s\n",
            "Epoch [1/5], Step [80/235], Average Loss: 0.0225, Perplexity: 18.5200, Elapsed time: 486.5473s\n",
            "Epoch [1/5], Step [100/235], Average Loss: 0.0224, Perplexity: 15.7630, Elapsed time: 513.9006s\n",
            "Epoch [1/5], Step [120/235], Average Loss: 0.0223, Perplexity: 16.1699, Elapsed time: 541.2411s\n",
            "Epoch [1/5], Step [140/235], Average Loss: 0.0222, Perplexity: 16.4478, Elapsed time: 568.6627s\n",
            "Epoch [1/5], Step [160/235], Average Loss: 0.0221, Perplexity: 14.8320, Elapsed time: 596.0257s\n",
            "Epoch [1/5], Step [180/235], Average Loss: 0.0220, Perplexity: 17.7126, Elapsed time: 623.4158s\n",
            "Epoch [1/5], Step [200/235], Average Loss: 0.0219, Perplexity: 12.2711, Elapsed time: 650.7980s\n",
            "Epoch [1/5], Step [220/235], Average Loss: 0.0218, Perplexity: 15.6589, Elapsed time: 678.1833s\n",
            "Model saved: models/decoder-2.ckpt\n",
            "Model saved: models/encoder-2.ckpt\n",
            "[ Validation ]\n",
            "Epoch [1/5], Step [0/40], Average Loss: 0.0215, Perplexity: 15.7264, Elapsed time: 699.5601s\n",
            "Epoch [1/5], Step [20/40], Average Loss: 0.0219, Perplexity: 18.3974, Elapsed time: 726.4492s\n",
            "[ Training ]\n",
            "Epoch [2/5], Step [0/235], Average Loss: 0.0206, Perplexity: 14.0180, Elapsed time: 753.0650s\n",
            "Epoch [2/5], Step [20/235], Average Loss: 0.0203, Perplexity: 12.3302, Elapsed time: 780.4630s\n",
            "Epoch [2/5], Step [40/235], Average Loss: 0.0201, Perplexity: 12.0979, Elapsed time: 807.8430s\n",
            "Epoch [2/5], Step [60/235], Average Loss: 0.0200, Perplexity: 12.0343, Elapsed time: 835.2412s\n",
            "Epoch [2/5], Step [80/235], Average Loss: 0.0200, Perplexity: 12.7148, Elapsed time: 862.5808s\n",
            "Epoch [2/5], Step [100/235], Average Loss: 0.0199, Perplexity: 13.4004, Elapsed time: 889.9526s\n",
            "Epoch [2/5], Step [120/235], Average Loss: 0.0199, Perplexity: 12.3974, Elapsed time: 917.3736s\n",
            "Epoch [2/5], Step [140/235], Average Loss: 0.0198, Perplexity: 12.5831, Elapsed time: 944.7791s\n",
            "Epoch [2/5], Step [160/235], Average Loss: 0.0198, Perplexity: 11.5242, Elapsed time: 972.1847s\n",
            "Epoch [2/5], Step [180/235], Average Loss: 0.0198, Perplexity: 10.7564, Elapsed time: 999.5574s\n",
            "Epoch [2/5], Step [200/235], Average Loss: 0.0197, Perplexity: 13.6164, Elapsed time: 1026.9630s\n",
            "Epoch [2/5], Step [220/235], Average Loss: 0.0197, Perplexity: 12.1501, Elapsed time: 1054.3695s\n",
            "Model saved: models/decoder-3.ckpt\n",
            "Model saved: models/encoder-3.ckpt\n",
            "[ Validation ]\n",
            "Epoch [2/5], Step [0/40], Average Loss: 0.0205, Perplexity: 13.8166, Elapsed time: 1075.7070s\n",
            "Epoch [2/5], Step [20/40], Average Loss: 0.0209, Perplexity: 16.1166, Elapsed time: 1102.5797s\n",
            "[ Training ]\n",
            "Epoch [3/5], Step [0/235], Average Loss: 0.0172, Perplexity: 9.0168, Elapsed time: 1129.1532s\n",
            "Epoch [3/5], Step [20/235], Average Loss: 0.0184, Perplexity: 11.0576, Elapsed time: 1156.5747s\n",
            "Epoch [3/5], Step [40/235], Average Loss: 0.0184, Perplexity: 10.7458, Elapsed time: 1183.9466s\n",
            "Epoch [3/5], Step [60/235], Average Loss: 0.0184, Perplexity: 10.7469, Elapsed time: 1211.3392s\n",
            "Epoch [3/5], Step [80/235], Average Loss: 0.0184, Perplexity: 10.3316, Elapsed time: 1238.7066s\n",
            "Epoch [3/5], Step [100/235], Average Loss: 0.0184, Perplexity: 10.7004, Elapsed time: 1266.0916s\n",
            "Epoch [3/5], Step [120/235], Average Loss: 0.0184, Perplexity: 10.8704, Elapsed time: 1293.4641s\n",
            "Epoch [3/5], Step [140/235], Average Loss: 0.0183, Perplexity: 11.4424, Elapsed time: 1320.8515s\n",
            "Epoch [3/5], Step [160/235], Average Loss: 0.0183, Perplexity: 10.3851, Elapsed time: 1348.2033s\n",
            "Epoch [3/5], Step [180/235], Average Loss: 0.0183, Perplexity: 10.5017, Elapsed time: 1375.5843s\n",
            "Epoch [3/5], Step [200/235], Average Loss: 0.0183, Perplexity: 10.3084, Elapsed time: 1402.9675s\n",
            "Epoch [3/5], Step [220/235], Average Loss: 0.0183, Perplexity: 11.4834, Elapsed time: 1430.3218s\n",
            "Model saved: models/decoder-4.ckpt\n",
            "Model saved: models/encoder-4.ckpt\n",
            "[ Validation ]\n",
            "Epoch [3/5], Step [0/40], Average Loss: 0.0201, Perplexity: 13.0559, Elapsed time: 1451.6482s\n",
            "Epoch [3/5], Step [20/40], Average Loss: 0.0203, Perplexity: 15.2430, Elapsed time: 1478.5868s\n",
            "[ Training ]\n",
            "Epoch [4/5], Step [0/235], Average Loss: 0.0175, Perplexity: 9.3363, Elapsed time: 1505.1849s\n",
            "Epoch [4/5], Step [20/235], Average Loss: 0.0171, Perplexity: 8.3244, Elapsed time: 1532.6175s\n",
            "Epoch [4/5], Step [40/235], Average Loss: 0.0172, Perplexity: 10.2293, Elapsed time: 1560.0602s\n",
            "Epoch [4/5], Step [60/235], Average Loss: 0.0171, Perplexity: 8.8633, Elapsed time: 1587.4945s\n",
            "Epoch [4/5], Step [80/235], Average Loss: 0.0172, Perplexity: 8.2751, Elapsed time: 1614.9715s\n",
            "Epoch [4/5], Step [100/235], Average Loss: 0.0172, Perplexity: 9.1406, Elapsed time: 1642.4512s\n",
            "Epoch [4/5], Step [120/235], Average Loss: 0.0172, Perplexity: 8.6928, Elapsed time: 1669.9367s\n",
            "Epoch [4/5], Step [140/235], Average Loss: 0.0172, Perplexity: 9.5998, Elapsed time: 1697.3445s\n",
            "Epoch [4/5], Step [160/235], Average Loss: 0.0172, Perplexity: 8.9328, Elapsed time: 1724.6984s\n",
            "Epoch [4/5], Step [180/235], Average Loss: 0.0172, Perplexity: 8.5664, Elapsed time: 1751.9843s\n",
            "Epoch [4/5], Step [200/235], Average Loss: 0.0172, Perplexity: 8.7500, Elapsed time: 1779.3582s\n",
            "Epoch [4/5], Step [220/235], Average Loss: 0.0172, Perplexity: 8.6017, Elapsed time: 1806.7371s\n",
            "Model saved: models/decoder-5.ckpt\n",
            "Model saved: models/encoder-5.ckpt\n",
            "[ Validation ]\n",
            "Epoch [4/5], Step [0/40], Average Loss: 0.0196, Perplexity: 12.3028, Elapsed time: 1828.1192s\n",
            "Epoch [4/5], Step [20/40], Average Loss: 0.0200, Perplexity: 14.4018, Elapsed time: 1854.9675s\n"
          ]
        }
      ]
    },
    {
      "cell_type": "code",
      "metadata": {
        "id": "8TIrSDLjm0Xr",
        "colab": {
          "base_uri": "https://localhost:8080/",
          "height": 17
        },
        "outputId": "898d855e-2e23-479e-9655-f7e698393d6d"
      },
      "source": [
        "from google.colab import files\n",
        "\n",
        "files.download('models/encoder-5.ckpt')\n",
        "files.download('models/decoder-5.ckpt')"
      ],
      "execution_count": 13,
      "outputs": [
        {
          "output_type": "display_data",
          "data": {
            "application/javascript": [
              "\n",
              "    async function download(id, filename, size) {\n",
              "      if (!google.colab.kernel.accessAllowed) {\n",
              "        return;\n",
              "      }\n",
              "      const div = document.createElement('div');\n",
              "      const label = document.createElement('label');\n",
              "      label.textContent = `Downloading \"${filename}\": `;\n",
              "      div.appendChild(label);\n",
              "      const progress = document.createElement('progress');\n",
              "      progress.max = size;\n",
              "      div.appendChild(progress);\n",
              "      document.body.appendChild(div);\n",
              "\n",
              "      const buffers = [];\n",
              "      let downloaded = 0;\n",
              "\n",
              "      const channel = await google.colab.kernel.comms.open(id);\n",
              "      // Send a message to notify the kernel that we're ready.\n",
              "      channel.send({})\n",
              "\n",
              "      for await (const message of channel.messages) {\n",
              "        // Send a message to notify the kernel that we're ready.\n",
              "        channel.send({})\n",
              "        if (message.buffers) {\n",
              "          for (const buffer of message.buffers) {\n",
              "            buffers.push(buffer);\n",
              "            downloaded += buffer.byteLength;\n",
              "            progress.value = downloaded;\n",
              "          }\n",
              "        }\n",
              "      }\n",
              "      const blob = new Blob(buffers, {type: 'application/binary'});\n",
              "      const a = document.createElement('a');\n",
              "      a.href = window.URL.createObjectURL(blob);\n",
              "      a.download = filename;\n",
              "      div.appendChild(a);\n",
              "      a.click();\n",
              "      div.remove();\n",
              "    }\n",
              "  "
            ],
            "text/plain": [
              "<IPython.core.display.Javascript object>"
            ]
          },
          "metadata": {}
        },
        {
          "output_type": "display_data",
          "data": {
            "application/javascript": [
              "download(\"download_5179fc94-fd3e-4514-b6c2-1dc999a00672\", \"encoder-5.ckpt\", 172732499)"
            ],
            "text/plain": [
              "<IPython.core.display.Javascript object>"
            ]
          },
          "metadata": {}
        },
        {
          "output_type": "display_data",
          "data": {
            "application/javascript": [
              "\n",
              "    async function download(id, filename, size) {\n",
              "      if (!google.colab.kernel.accessAllowed) {\n",
              "        return;\n",
              "      }\n",
              "      const div = document.createElement('div');\n",
              "      const label = document.createElement('label');\n",
              "      label.textContent = `Downloading \"${filename}\": `;\n",
              "      div.appendChild(label);\n",
              "      const progress = document.createElement('progress');\n",
              "      progress.max = size;\n",
              "      div.appendChild(progress);\n",
              "      document.body.appendChild(div);\n",
              "\n",
              "      const buffers = [];\n",
              "      let downloaded = 0;\n",
              "\n",
              "      const channel = await google.colab.kernel.comms.open(id);\n",
              "      // Send a message to notify the kernel that we're ready.\n",
              "      channel.send({})\n",
              "\n",
              "      for await (const message of channel.messages) {\n",
              "        // Send a message to notify the kernel that we're ready.\n",
              "        channel.send({})\n",
              "        if (message.buffers) {\n",
              "          for (const buffer of message.buffers) {\n",
              "            buffers.push(buffer);\n",
              "            downloaded += buffer.byteLength;\n",
              "            progress.value = downloaded;\n",
              "          }\n",
              "        }\n",
              "      }\n",
              "      const blob = new Blob(buffers, {type: 'application/binary'});\n",
              "      const a = document.createElement('a');\n",
              "      a.href = window.URL.createObjectURL(blob);\n",
              "      a.download = filename;\n",
              "      div.appendChild(a);\n",
              "      a.click();\n",
              "      div.remove();\n",
              "    }\n",
              "  "
            ],
            "text/plain": [
              "<IPython.core.display.Javascript object>"
            ]
          },
          "metadata": {}
        },
        {
          "output_type": "display_data",
          "data": {
            "application/javascript": [
              "download(\"download_eff7f2c6-cdfc-4bfc-8cb5-2d626eff307d\", \"decoder-5.ckpt\", 16909471)"
            ],
            "text/plain": [
              "<IPython.core.display.Javascript object>"
            ]
          },
          "metadata": {}
        }
      ]
    },
    {
      "cell_type": "code",
      "metadata": {
        "id": "WAMHcnbf0gps"
      },
      "source": [
        "def load_image(image_path, transform=None):\n",
        "    image = Image.open(image_path).convert('RGB')\n",
        "    image = image.resize([224, 224], Image.LANCZOS)\n",
        "\n",
        "    if transform is not None:\n",
        "        image = transform(image).unsqueeze(0)\n",
        "    \n",
        "    return image\n",
        "\n",
        "image_path = \"./resized_test/images/688940111_325a74674a.jpg\" \n",
        "encoder_path = \"./models/encoder-5.ckpt\" # path for trained encoder\n",
        "decoder_path = \"./models/decoder-5.ckpt\" # path for trained decoder\n",
        "vocab_path = \"./vocab.pkl\" # path for vocabulary wrapper\n",
        "\n",
        "# Model parameters (should be same as paramters in train.py)\n",
        "embed_size = 256 # dimension of word embedding vectors\n",
        "hidden_size = 512 # dimension of lstm hidden states\n",
        "num_layers = 1 # number of layers in lstm"
      ],
      "execution_count": 36,
      "outputs": []
    },
    {
      "cell_type": "code",
      "metadata": {
        "id": "32YjYm4m388m"
      },
      "source": [
        "# image preprocessing\n",
        "transform = transforms.Compose([\n",
        "    transforms.ToTensor(), \n",
        "    transforms.Normalize((0.485, 0.456, 0.406), (0.229, 0.224, 0.225))])\n",
        "\n",
        "# Load vocabulary wrapper\n",
        "with open(vocab_path, 'rb') as f:\n",
        "    vocab = pickle.load(f)\n",
        "\n",
        "# Build models\n",
        "encoder = EncoderCNN(embed_size).eval() # eval mode (batchnorm uses moving mean/variance)\n",
        "decoder = DecoderRNN(embed_size, hidden_size, len(vocab), num_layers)\n",
        "encoder = encoder.to(device)\n",
        "decoder = decoder.to(device)\n",
        "\n",
        "# Load the trained model parameters\n",
        "encoder.load_state_dict(torch.load(encoder_path))\n",
        "decoder.load_state_dict(torch.load(decoder_path))\n",
        "\n",
        "# Prepare an image\n",
        "image = load_image(image_path, transform)\n",
        "image_tensor = image.to(device)\n",
        "\n",
        "# Generate an caption from the image\n",
        "feature = encoder(image_tensor)\n",
        "sampled_ids = decoder.sample(feature)\n",
        "sampled_ids = sampled_ids[0].cpu().numpy() # (1, max_seq_length) -> (max_seq_length)\n",
        "\n",
        "# Convert word_ids to words\n",
        "sampled_caption = []\n",
        "for word_id in sampled_ids: \n",
        "    word = vocab.idx2word[word_id] \n",
        "    sampled_caption.append(word)\n",
        "    if word == '<end>':\n",
        "        break\n",
        "sentence = ' '.join(sampled_caption)"
      ],
      "execution_count": 37,
      "outputs": []
    },
    {
      "cell_type": "code",
      "metadata": {
        "colab": {
          "base_uri": "https://localhost:8080/",
          "height": 286
        },
        "id": "0C-v57R_4AbE",
        "outputId": "a4bf5066-dfc0-4f4d-9a6f-176f8c1b3ff9"
      },
      "source": [
        "import matplotlib.pyplot as plt\n",
        "\n",
        "image = Image.open(image_path)\n",
        "plt.imshow(np.asarray(image))\n",
        "plt.show()\n",
        "print(sentence)"
      ],
      "execution_count": 38,
      "outputs": [
        {
          "output_type": "display_data",
          "data": {
            "image/png": "[encoded data removed]",
            "text/plain": [
              "<Figure size 432x288 with 1 Axes>"
            ]
          },
          "metadata": {
            "needs_background": "light"
          }
        },
        {
          "output_type": "stream",
          "name": "stdout",
          "text": [
            "<start> a young boy wearing a blue shirt and a blue shirt is playing with a ball . <end>\n"
          ]
        }
      ]
    },
    {
      "cell_type": "code",
      "metadata": {
        "id": "bRjiX07V7kjc"
      },
      "source": [
        ""
      ],
      "execution_count": null,
      "outputs": []
    }
  ]
}