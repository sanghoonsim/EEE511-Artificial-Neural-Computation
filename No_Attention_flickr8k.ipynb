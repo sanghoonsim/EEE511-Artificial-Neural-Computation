{
  "nbformat": 4,
  "nbformat_minor": 0,
  "metadata": {
    "colab": {
      "name": "show_and_tell_flickr8k (2).ipynb",
      "provenance": [],
      "collapsed_sections": [],
      "include_colab_link": true
    },
    "kernelspec": {
      "name": "python3",
      "display_name": "Python 3"
    },
    "language_info": {
      "name": "python"
    },
    "accelerator": "GPU",
    "widgets": {
      "application/vnd.jupyter.widget-state+json": {
        "fbf40922ee784f83aa1947a03d9eb0bf": {
          "model_module": "@jupyter-widgets/controls",
          "model_name": "HBoxModel",
          "model_module_version": "1.5.0",
          "state": {
            "_view_name": "HBoxView",
            "_dom_classes": [],
            "_model_name": "HBoxModel",
            "_view_module": "@jupyter-widgets/controls",
            "_model_module_version": "1.5.0",
            "_view_count": null,
            "_view_module_version": "1.5.0",
            "box_style": "",
            "layout": "IPY_MODEL_c08c2f67bc564032bf39aaecef67e77e",
            "_model_module": "@jupyter-widgets/controls",
            "children": [
              "IPY_MODEL_77865b8403934be78e1c6675cb6730dd",
              "IPY_MODEL_f7ac630452c54c42aa76d09013bcda28",
              "IPY_MODEL_4c900b9741a648cfa955bdbf189f62b5"
            ]
          }
        },
        "c08c2f67bc564032bf39aaecef67e77e": {
          "model_module": "@jupyter-widgets/base",
          "model_name": "LayoutModel",
          "model_module_version": "1.2.0",
          "state": {
            "_view_name": "LayoutView",
            "grid_template_rows": null,
            "right": null,
            "justify_content": null,
            "_view_module": "@jupyter-widgets/base",
            "overflow": null,
            "_model_module_version": "1.2.0",
            "_view_count": null,
            "flex_flow": null,
            "width": null,
            "min_width": null,
            "border": null,
            "align_items": null,
            "bottom": null,
            "_model_module": "@jupyter-widgets/base",
            "top": null,
            "grid_column": null,
            "overflow_y": null,
            "overflow_x": null,
            "grid_auto_flow": null,
            "grid_area": null,
            "grid_template_columns": null,
            "flex": null,
            "_model_name": "LayoutModel",
            "justify_items": null,
            "grid_row": null,
            "max_height": null,
            "align_content": null,
            "visibility": null,
            "align_self": null,
            "height": null,
            "min_height": null,
            "padding": null,
            "grid_auto_rows": null,
            "grid_gap": null,
            "max_width": null,
            "order": null,
            "_view_module_version": "1.2.0",
            "grid_template_areas": null,
            "object_position": null,
            "object_fit": null,
            "grid_auto_columns": null,
            "margin": null,
            "display": null,
            "left": null
          }
        },
        "77865b8403934be78e1c6675cb6730dd": {
          "model_module": "@jupyter-widgets/controls",
          "model_name": "HTMLModel",
          "model_module_version": "1.5.0",
          "state": {
            "_view_name": "HTMLView",
            "style": "IPY_MODEL_6401cb5d0cc74bd786ba94284d96431e",
            "_dom_classes": [],
            "description": "",
            "_model_name": "HTMLModel",
            "placeholder": "​",
            "_view_module": "@jupyter-widgets/controls",
            "_model_module_version": "1.5.0",
            "value": "100%",
            "_view_count": null,
            "_view_module_version": "1.5.0",
            "description_tooltip": null,
            "_model_module": "@jupyter-widgets/controls",
            "layout": "IPY_MODEL_4e767d7a58b842fda3a85b54699a43c8"
          }
        },
        "f7ac630452c54c42aa76d09013bcda28": {
          "model_module": "@jupyter-widgets/controls",
          "model_name": "FloatProgressModel",
          "model_module_version": "1.5.0",
          "state": {
            "_view_name": "ProgressView",
            "style": "IPY_MODEL_a736acbea6404e00bbc593bf7c47eb55",
            "_dom_classes": [],
            "description": "",
            "_model_name": "FloatProgressModel",
            "bar_style": "success",
            "max": 178793939,
            "_view_module": "@jupyter-widgets/controls",
            "_model_module_version": "1.5.0",
            "value": 178793939,
            "_view_count": null,
            "_view_module_version": "1.5.0",
            "orientation": "horizontal",
            "min": 0,
            "description_tooltip": null,
            "_model_module": "@jupyter-widgets/controls",
            "layout": "IPY_MODEL_c1bc9df2ca1b4a27b8a8de3309c81f9d"
          }
        },
        "4c900b9741a648cfa955bdbf189f62b5": {
          "model_module": "@jupyter-widgets/controls",
          "model_name": "HTMLModel",
          "model_module_version": "1.5.0",
          "state": {
            "_view_name": "HTMLView",
            "style": "IPY_MODEL_b1bf76c903ce4ad3b46e838e3163e4bc",
            "_dom_classes": [],
            "description": "",
            "_model_name": "HTMLModel",
            "placeholder": "​",
            "_view_module": "@jupyter-widgets/controls",
            "_model_module_version": "1.5.0",
            "value": " 171M/171M [00:01&lt;00:00, 106MB/s]",
            "_view_count": null,
            "_view_module_version": "1.5.0",
            "description_tooltip": null,
            "_model_module": "@jupyter-widgets/controls",
            "layout": "IPY_MODEL_9f190a0613064b909e51cc72fa2cf69f"
          }
        },
        "6401cb5d0cc74bd786ba94284d96431e": {
          "model_module": "@jupyter-widgets/controls",
          "model_name": "DescriptionStyleModel",
          "model_module_version": "1.5.0",
          "state": {
            "_view_name": "StyleView",
            "_model_name": "DescriptionStyleModel",
            "description_width": "",
            "_view_module": "@jupyter-widgets/base",
            "_model_module_version": "1.5.0",
            "_view_count": null,
            "_view_module_version": "1.2.0",
            "_model_module": "@jupyter-widgets/controls"
          }
        },
        "4e767d7a58b842fda3a85b54699a43c8": {
          "model_module": "@jupyter-widgets/base",
          "model_name": "LayoutModel",
          "model_module_version": "1.2.0",
          "state": {
            "_view_name": "LayoutView",
            "grid_template_rows": null,
            "right": null,
            "justify_content": null,
            "_view_module": "@jupyter-widgets/base",
            "overflow": null,
            "_model_module_version": "1.2.0",
            "_view_count": null,
            "flex_flow": null,
            "width": null,
            "min_width": null,
            "border": null,
            "align_items": null,
            "bottom": null,
            "_model_module": "@jupyter-widgets/base",
            "top": null,
            "grid_column": null,
            "overflow_y": null,
            "overflow_x": null,
            "grid_auto_flow": null,
            "grid_area": null,
            "grid_template_columns": null,
            "flex": null,
            "_model_name": "LayoutModel",
            "justify_items": null,
            "grid_row": null,
            "max_height": null,
            "align_content": null,
            "visibility": null,
            "align_self": null,
            "height": null,
            "min_height": null,
            "padding": null,
            "grid_auto_rows": null,
            "grid_gap": null,
            "max_width": null,
            "order": null,
            "_view_module_version": "1.2.0",
            "grid_template_areas": null,
            "object_position": null,
            "object_fit": null,
            "grid_auto_columns": null,
            "margin": null,
            "display": null,
            "left": null
          }
        },
        "a736acbea6404e00bbc593bf7c47eb55": {
          "model_module": "@jupyter-widgets/controls",
          "model_name": "ProgressStyleModel",
          "model_module_version": "1.5.0",
          "state": {
            "_view_name": "StyleView",
            "_model_name": "ProgressStyleModel",
            "description_width": "",
            "_view_module": "@jupyter-widgets/base",
            "_model_module_version": "1.5.0",
            "_view_count": null,
            "_view_module_version": "1.2.0",
            "bar_color": null,
            "_model_module": "@jupyter-widgets/controls"
          }
        },
        "c1bc9df2ca1b4a27b8a8de3309c81f9d": {
          "model_module": "@jupyter-widgets/base",
          "model_name": "LayoutModel",
          "model_module_version": "1.2.0",
          "state": {
            "_view_name": "LayoutView",
            "grid_template_rows": null,
            "right": null,
            "justify_content": null,
            "_view_module": "@jupyter-widgets/base",
            "overflow": null,
            "_model_module_version": "1.2.0",
            "_view_count": null,
            "flex_flow": null,
            "width": null,
            "min_width": null,
            "border": null,
            "align_items": null,
            "bottom": null,
            "_model_module": "@jupyter-widgets/base",
            "top": null,
            "grid_column": null,
            "overflow_y": null,
            "overflow_x": null,
            "grid_auto_flow": null,
            "grid_area": null,
            "grid_template_columns": null,
            "flex": null,
            "_model_name": "LayoutModel",
            "justify_items": null,
            "grid_row": null,
            "max_height": null,
            "align_content": null,
            "visibility": null,
            "align_self": null,
            "height": null,
            "min_height": null,
            "padding": null,
            "grid_auto_rows": null,
            "grid_gap": null,
            "max_width": null,
            "order": null,
            "_view_module_version": "1.2.0",
            "grid_template_areas": null,
            "object_position": null,
            "object_fit": null,
            "grid_auto_columns": null,
            "margin": null,
            "display": null,
            "left": null
          }
        },
        "b1bf76c903ce4ad3b46e838e3163e4bc": {
          "model_module": "@jupyter-widgets/controls",
          "model_name": "DescriptionStyleModel",
          "model_module_version": "1.5.0",
          "state": {
            "_view_name": "StyleView",
            "_model_name": "DescriptionStyleModel",
            "description_width": "",
            "_view_module": "@jupyter-widgets/base",
            "_model_module_version": "1.5.0",
            "_view_count": null,
            "_view_module_version": "1.2.0",
            "_model_module": "@jupyter-widgets/controls"
          }
        },
        "9f190a0613064b909e51cc72fa2cf69f": {
          "model_module": "@jupyter-widgets/base",
          "model_name": "LayoutModel",
          "model_module_version": "1.2.0",
          "state": {
            "_view_name": "LayoutView",
            "grid_template_rows": null,
            "right": null,
            "justify_content": null,
            "_view_module": "@jupyter-widgets/base",
            "overflow": null,
            "_model_module_version": "1.2.0",
            "_view_count": null,
            "flex_flow": null,
            "width": null,
            "min_width": null,
            "border": null,
            "align_items": null,
            "bottom": null,
            "_model_module": "@jupyter-widgets/base",
            "top": null,
            "grid_column": null,
            "overflow_y": null,
            "overflow_x": null,
            "grid_auto_flow": null,
            "grid_area": null,
            "grid_template_columns": null,
            "flex": null,
            "_model_name": "LayoutModel",
            "justify_items": null,
            "grid_row": null,
            "max_height": null,
            "align_content": null,
            "visibility": null,
            "align_self": null,
            "height": null,
            "min_height": null,
            "padding": null,
            "grid_auto_rows": null,
            "grid_gap": null,
            "max_width": null,
            "order": null,
            "_view_module_version": "1.2.0",
            "grid_template_areas": null,
            "object_position": null,
            "object_fit": null,
            "grid_auto_columns": null,
            "margin": null,
            "display": null,
            "left": null
          }
        }
      }
    }
  },
  "cells": [
    {
      "cell_type": "markdown",
      "metadata": {
        "id": "view-in-github",
        "colab_type": "text"
      },
      "source": [
        "<a href=\"https://colab.research.google.com/github/sanghoonsim/EEE511-Artificial-Neural-Computation/blob/main/No_Attention_flickr8k.ipynb\" target=\"_parent\"><img src=\"https://colab.research.google.com/assets/colab-badge.svg\" alt=\"Open In Colab\"/></a>"
      ]
    },
    {
      "cell_type": "markdown",
      "metadata": {
        "id": "1AASS-rwZzmV"
      },
      "source": [
        "##Data Acquisition"
      ]
    },
    {
      "cell_type": "code",
      "metadata": {
        "colab": {
          "base_uri": "https://localhost:8080/"
        },
        "id": "9RlsaX-diEk0",
        "outputId": "580a706e-d98c-4f75-e5d7-c020a75cb67f"
      },
      "source": [
        "# Download Flickr8k and unzip\n",
        "!gdown --id 1QtXenCITpdtSfm9rR45_j3WspBSexZqD --output Flickr8k_dataset.zip"
      ],
      "execution_count": 1,
      "outputs": [
        {
          "output_type": "stream",
          "name": "stdout",
          "text": [
            "Downloading...\n",
            "From: https://drive.google.com/uc?id=1QtXenCITpdtSfm9rR45_j3WspBSexZqD\n",
            "To: /content/Flickr8k_dataset.zip\n",
            "100% 1.12G/1.12G [00:12<00:00, 90.5MB/s]\n"
          ]
        }
      ]
    },
    {
      "cell_type": "code",
      "metadata": {
        "id": "uHBNxoMEiVKq"
      },
      "source": [
        "%%capture\n",
        "!unzip Flickr8k_dataset.zip"
      ],
      "execution_count": 2,
      "outputs": []
    },
    {
      "cell_type": "code",
      "metadata": {
        "id": "ZGP75xTYihtL",
        "colab": {
          "base_uri": "https://localhost:8080/"
        },
        "outputId": "0dc3dd7f-572f-4bf8-e925-8a3eec983a98"
      },
      "source": [
        "# Install library to calculate BLEU Score\n",
        "!pip install torchtext==0.6.0"
      ],
      "execution_count": 3,
      "outputs": [
        {
          "output_type": "stream",
          "name": "stdout",
          "text": [
            "Collecting torchtext==0.6.0\n",
            "  Downloading torchtext-0.6.0-py3-none-any.whl (64 kB)\n",
            "\u001b[?25l\r\u001b[K     |█████                           | 10 kB 18.9 MB/s eta 0:00:01\r\u001b[K     |██████████▏                     | 20 kB 23.5 MB/s eta 0:00:01\r\u001b[K     |███████████████▎                | 30 kB 14.8 MB/s eta 0:00:01\r\u001b[K     |████████████████████▍           | 40 kB 10.9 MB/s eta 0:00:01\r\u001b[K     |█████████████████████████▌      | 51 kB 4.6 MB/s eta 0:00:01\r\u001b[K     |██████████████████████████████▋ | 61 kB 4.9 MB/s eta 0:00:01\r\u001b[K     |████████████████████████████████| 64 kB 1.7 MB/s \n",
            "\u001b[?25hRequirement already satisfied: tqdm in /usr/local/lib/python3.7/dist-packages (from torchtext==0.6.0) (4.62.3)\n",
            "Requirement already satisfied: numpy in /usr/local/lib/python3.7/dist-packages (from torchtext==0.6.0) (1.19.5)\n",
            "Requirement already satisfied: requests in /usr/local/lib/python3.7/dist-packages (from torchtext==0.6.0) (2.23.0)\n",
            "Requirement already satisfied: six in /usr/local/lib/python3.7/dist-packages (from torchtext==0.6.0) (1.15.0)\n",
            "Requirement already satisfied: torch in /usr/local/lib/python3.7/dist-packages (from torchtext==0.6.0) (1.10.0+cu111)\n",
            "Collecting sentencepiece\n",
            "  Downloading sentencepiece-0.1.96-cp37-cp37m-manylinux_2_17_x86_64.manylinux2014_x86_64.whl (1.2 MB)\n",
            "\u001b[K     |████████████████████████████████| 1.2 MB 8.2 MB/s \n",
            "\u001b[?25hRequirement already satisfied: chardet<4,>=3.0.2 in /usr/local/lib/python3.7/dist-packages (from requests->torchtext==0.6.0) (3.0.4)\n",
            "Requirement already satisfied: urllib3!=1.25.0,!=1.25.1,<1.26,>=1.21.1 in /usr/local/lib/python3.7/dist-packages (from requests->torchtext==0.6.0) (1.24.3)\n",
            "Requirement already satisfied: certifi>=2017.4.17 in /usr/local/lib/python3.7/dist-packages (from requests->torchtext==0.6.0) (2021.10.8)\n",
            "Requirement already satisfied: idna<3,>=2.5 in /usr/local/lib/python3.7/dist-packages (from requests->torchtext==0.6.0) (2.10)\n",
            "Requirement already satisfied: typing-extensions in /usr/local/lib/python3.7/dist-packages (from torch->torchtext==0.6.0) (3.10.0.2)\n",
            "Installing collected packages: sentencepiece, torchtext\n",
            "  Attempting uninstall: torchtext\n",
            "    Found existing installation: torchtext 0.11.0\n",
            "    Uninstalling torchtext-0.11.0:\n",
            "      Successfully uninstalled torchtext-0.11.0\n",
            "Successfully installed sentencepiece-0.1.96 torchtext-0.6.0\n"
          ]
        }
      ]
    },
    {
      "cell_type": "markdown",
      "metadata": {
        "id": "R_yOES73ZwSh"
      },
      "source": [
        "## Data Preprocessing"
      ]
    },
    {
      "cell_type": "code",
      "metadata": {
        "id": "rDTwb3TFebXG"
      },
      "source": [
        "!rm ./Flickr8k_dataset/Images/.DS_Store"
      ],
      "execution_count": 4,
      "outputs": []
    },
    {
      "cell_type": "code",
      "metadata": {
        "id": "1pmXOk8Z44mh"
      },
      "source": [
        "#!rm -rf ./resized_test/\n",
        "#!rm -rf ./resized_train/\n",
        "#!rm -rf ./resized_val/"
      ],
      "execution_count": 5,
      "outputs": []
    },
    {
      "cell_type": "code",
      "metadata": {
        "colab": {
          "base_uri": "https://localhost:8080/"
        },
        "id": "gIpVsuyGa_qP",
        "outputId": "c8b24cd6-9adc-4de4-c4b8-b3b1b99891d3"
      },
      "source": [
        "# Resize all the images in the dataset\n",
        "import os\n",
        "from PIL import Image\n",
        "\n",
        "image_dir = \"./Flickr8k_dataset/Images\" # Path to original image\n",
        "train_image_dir = \"./resized_train/images\" # Path to resized image(Training)\n",
        "val_image_dir = \"./resized_val/images\" # Path to resized image(Validation)\n",
        "test_image_dir = \"./resized_test/images\" # Path to resized image(Testing)\n",
        "size = [256, 256] # size of resized image\n",
        "\n",
        "\n",
        "def resize_image(image, size):\n",
        "    # Image,ANTIALIAS: to avoid defection when high resolution image is resized into low resolution  \n",
        "    return image.resize(size, Image.ANTIALIAS) \n",
        "\n",
        "# Create directories to split dataset(train, validation, and test)\n",
        "if not os.path.exists(train_image_dir):\n",
        "    os.makedirs(train_image_dir)\n",
        "if not os.path.exists(val_image_dir):\n",
        "    os.makedirs(val_image_dir)\n",
        "if not os.path.exists(test_image_dir):\n",
        "    os.makedirs(test_image_dir)\n",
        "\n",
        "images = sorted(os.listdir(image_dir)) # Sort files by the name of the images\n",
        "num_images = len(images) # The number of images ===> 8091\n",
        "num_train_images = 6000 # 6000 for Learning data\n",
        "num_val_images = 1000 # 1000 for validation and the rest(1000) is test\n",
        "print(\"The number of images\", num_images)"
      ],
      "execution_count": 6,
      "outputs": [
        {
          "output_type": "stream",
          "name": "stdout",
          "text": [
            "The number of images 8091\n"
          ]
        }
      ]
    },
    {
      "cell_type": "code",
      "metadata": {
        "id": "4tpGba-_4tYj"
      },
      "source": [
        ""
      ],
      "execution_count": 6,
      "outputs": []
    },
    {
      "cell_type": "code",
      "metadata": {
        "id": "2g0vC52tiwL5",
        "colab": {
          "base_uri": "https://localhost:8080/"
        },
        "outputId": "6471d8fe-5908-4cc2-c5ff-077341f5b738"
      },
      "source": [
        "for i, image in enumerate(images): # Split images into the three categories\n",
        "    # print(i, image) : 0 1000268201_693b08cb0e.jpg\n",
        "    if (i + 1) <= num_train_images: # if train set\n",
        "        output_dir = train_image_dir\n",
        "    elif (i + 1) <= num_train_images + num_val_images: # if validation set\n",
        "        output_dir = val_image_dir\n",
        "    else: # If test set\n",
        "        output_dir = test_image_dir\n",
        "    with open(os.path.join(image_dir, image), 'rb+') as f:\n",
        "        with Image.open(f) as img:\n",
        "            img = resize_image(img, size) # resize image\n",
        "            img.save(os.path.join(output_dir, image), img.format) # and save to split folder\n",
        "    if (i + 1) % 500 == 0: # print progress in every 500-th turn\n",
        "        print(f\"[{i + 1}/{num_images}] Resized the images and saved into '{output_dir}'\")"
      ],
      "execution_count": 7,
      "outputs": [
        {
          "output_type": "stream",
          "name": "stdout",
          "text": [
            "[500/8091] Resized the images and saved into './resized_train/images'\n",
            "[1000/8091] Resized the images and saved into './resized_train/images'\n",
            "[1500/8091] Resized the images and saved into './resized_train/images'\n",
            "[2000/8091] Resized the images and saved into './resized_train/images'\n",
            "[2500/8091] Resized the images and saved into './resized_train/images'\n",
            "[3000/8091] Resized the images and saved into './resized_train/images'\n",
            "[3500/8091] Resized the images and saved into './resized_train/images'\n",
            "[4000/8091] Resized the images and saved into './resized_train/images'\n",
            "[4500/8091] Resized the images and saved into './resized_train/images'\n",
            "[5000/8091] Resized the images and saved into './resized_train/images'\n",
            "[5500/8091] Resized the images and saved into './resized_train/images'\n",
            "[6000/8091] Resized the images and saved into './resized_train/images'\n",
            "[6500/8091] Resized the images and saved into './resized_val/images'\n",
            "[7000/8091] Resized the images and saved into './resized_val/images'\n",
            "[7500/8091] Resized the images and saved into './resized_test/images'\n",
            "[8000/8091] Resized the images and saved into './resized_test/images'\n"
          ]
        }
      ]
    },
    {
      "cell_type": "code",
      "metadata": {
        "colab": {
          "base_uri": "https://localhost:8080/"
        },
        "id": "2KHcm3f3dV00",
        "outputId": "60e609ec-2fc0-4d2e-c849-cb60861847f5"
      },
      "source": [
        "caption_path = \"./Flickr8k_dataset/captions.txt\" # Path to captions.txt\n",
        "with open(caption_path, \"r\") as f: # Read ./Flickr8k_dataset/captions.txt\n",
        "    lines = sorted(f.readlines()[1:]) # skpi the 0-th line because it is the headline\n",
        "    print(lines[40000])"
      ],
      "execution_count": 8,
      "outputs": [
        {
          "output_type": "stream",
          "name": "stdout",
          "text": [
            "888425986_e4b6c12324.jpg,A boy is upside down in midair near a lake at sunset .\n",
            "\n"
          ]
        }
      ]
    },
    {
      "cell_type": "code",
      "metadata": {
        "id": "D9yMciqai22v",
        "colab": {
          "base_uri": "https://localhost:8080/"
        },
        "outputId": "f51773c7-9b52-4054-ade0-b192aa4e9d40"
      },
      "source": [
        "# Build vocabs using captions\n",
        "import pickle # To store the python object as file\n",
        "import nltk # For tokenization, typically used for natural language processing\n",
        "from collections import Counter # To implement count on each word\n",
        "\n",
        "nltk.download('punkt') # Download tokenizer\n",
        "\n",
        "caption_path = \"./Flickr8k_dataset/captions.txt\" # Path to captions.txt\n",
        "vocab_path = \"./vocab.pkl\" # Path to vocabulary\n",
        "word_threshold = 4 # the minumum requirement to appear for each word\n",
        "train_caption_path = \"./resized_train/captions.txt\" # Path to captions of resized image(Training)\n",
        "val_caption_path = \"./resized_val/captions.txt\" # Path to captions of resized image(Validation)\n",
        "test_caption_path = \"./resized_test/captions.txt\" # Path to captions of resized image(Testing)\n",
        "\n",
        "\n",
        "# Vocabulary Class\n",
        "# Add general tags in to the dictionary\n",
        "# Add the words that appears 5 times or more into the dictionary\n",
        "# Maintains two types of dictionary, word to index, and index to word\n",
        "class Vocabulary(object):\n",
        "    def __init__(self):\n",
        "        self.word2idx = {} # dictionary word(key) : index(value)\n",
        "        self.idx2word = {} # dictionary index(key) : word(value)\n",
        "        self.idx = 0 # Start from 0\n",
        "\n",
        "    def add_word(self, word): # Add word to vocab dictionary\n",
        "        if not word in self.word2idx: # if not exist in the dictionary\n",
        "            self.word2idx[word] = self.idx # by word\n",
        "            self.idx2word[self.idx] = word # by index\n",
        "            self.idx += 1 # Increase the index by 1\n",
        "\n",
        "    def __call__(self, word):\n",
        "        if not word in self.word2idx: # if the word doesn't exist in the dictionary\n",
        "            return self.word2idx['<unk>'] # Attach '<unk>' tag\n",
        "        # If there is a word for captioning    \n",
        "        return self.word2idx[word]\n",
        "\n",
        "    def __len__(self):\n",
        "        return len(self.word2idx)\n",
        "\n",
        "counter = Counter() # Declar counter\n",
        "\n",
        "\n",
        "# To split the captions into train, validation, and test just like the image set splitted\n",
        "with open(caption_path, \"r\") as f: # Read ./Flickr8k_dataset/captions.txt\n",
        "    lines = sorted(f.readlines()[1:]) # skpi the 0-th line because it is the headline\n",
        "    for i in range(len(lines)): # range : 0 ~ (len(images) * 5) about 40,000\n",
        "        line = lines[i]\n",
        "        if (i + 1) <= num_train_images * 5:   # Becuase there are 5 captions per 1 image\n",
        "            output_caption = train_caption_path\n",
        "        elif (i + 1) <= (num_train_images + num_val_images) * 5:\n",
        "            output_caption = val_caption_path\n",
        "        else:\n",
        "            output_caption = test_caption_path\n",
        "        index = line.find(\",\") # Find the starting point of caption. - Format of caption.txt -> [name of image,caption]\n",
        "        caption = line[index + 1:] # find the caption\n",
        "        \n",
        "        tokens = nltk.tokenize.word_tokenize(caption.lower())\n",
        "        # tokens ['a', 'child', 'in', 'a', 'pink', 'dress', 'is', 'climbing', 'up', 'a', 'set', 'of', 'stairs', 'in', 'an', 'entry', 'way', '.']\n",
        "\n",
        "        counter.update(tokens) # counting dictionary\n",
        "        # Counter({'a': 3, 'in': 2, 'child': 1, 'pink': 1, 'dress': 1, 'is': 1, \n",
        "        #          'climbing': 1, 'up': 1, 'set': 1, 'of': 1, 'stairs': 1, 'an': 1, 'entry': 1, 'way': 1, '.': 1})\n",
        "        with open(output_caption, \"a\") as output_caption_f: # save the in the path (train_caption_path, val_caption_path or test_caption_path)\n",
        "            output_caption_f.write(line)\n",
        "\n",
        "# How Counting looks like\n",
        "# 'word'      'cnt'\n",
        "# david         2\n",
        "# beckham       1\n",
        "# canvasses     1\n",
        "# enforcment  1\n",
        "# ...\n",
        "\n",
        "# Find the words that appears more than 5 times, i.e, abandon the less appeared words than 5 times\n",
        "words = [word for word, cnt in counter.items() if cnt >= word_threshold] # make a list composed of words that appears over the number threshold\n",
        "\n",
        "vocab = Vocabulary() # Vocab obj\n",
        "vocab.add_word('<pad>') # Add general tags first \n",
        "vocab.add_word('<start>') # Add general tags first \n",
        "vocab.add_word('<end>') # Add general tags first \n",
        "vocab.add_word('<unk>') # Add general tags first \n",
        "\n",
        "# assign all the words to Vocabulary object\n",
        "for word in words:\n",
        "    vocab.add_word(word)\n",
        "\n",
        "# Save them in \"./vocab.pkl\"\n",
        "with open(vocab_path, 'wb') as f:\n",
        "    pickle.dump(vocab, f) # store vocab object as a file"
      ],
      "execution_count": 9,
      "outputs": [
        {
          "output_type": "stream",
          "name": "stdout",
          "text": [
            "[nltk_data] Downloading package punkt to /root/nltk_data...\n",
            "[nltk_data]   Unzipping tokenizers/punkt.zip.\n"
          ]
        }
      ]
    },
    {
      "cell_type": "code",
      "metadata": {
        "id": "q-95RLBujcZy",
        "colab": {
          "base_uri": "https://localhost:8080/"
        },
        "outputId": "913ba5a2-7357-4bbe-8c6c-ff3a8753ca9f"
      },
      "source": [
        "# The number of captions(Training) in dataset\n",
        "!wc -l ./resized_train/captions.txt\n",
        "# The number of captions(Val) in dataset\n",
        "!wc -l ./resized_val/captions.txt\n",
        "# The number of captions(Testing) in dataset\n",
        "!wc -l ./resized_test/captions.txt"
      ],
      "execution_count": 10,
      "outputs": [
        {
          "output_type": "stream",
          "name": "stdout",
          "text": [
            "30000 ./resized_train/captions.txt\n",
            "5000 ./resized_val/captions.txt\n",
            "5455 ./resized_test/captions.txt\n"
          ]
        }
      ]
    },
    {
      "cell_type": "code",
      "metadata": {
        "id": "iyZEWV18lX6a"
      },
      "source": [
        "# Define Flickr8kDataset Class\n",
        "import torch.utils.data as data\n",
        "\n",
        "class Flickr8kDataset(data.Dataset): # Define Flickr8k Dataset\n",
        "    def __init__(self, root, captions, vocab, transform=None):\n",
        "        self.root = root # Path to image, it can be ./resized_train, ./resized_val or ./resized_test\n",
        "        with open(captions, \"r\") as f:\n",
        "             lines = f.readlines()\n",
        "             self.captions = [] # list to store the captions\n",
        "             for line in lines: \n",
        "                index = line.find(\",\") # find the starting point of the caption\n",
        "                path = line[:index] # name of image file\n",
        "                caption = line[index + 1:] # the content of the caption\n",
        "                self.captions.append((path, caption))\n",
        "        self.vocab = vocab\n",
        "        self.transform = transform\n",
        "\n",
        "    # retrieve the image and caption one by one\n",
        "    def __getitem__(self, index):\n",
        "        vocab = self.vocab\n",
        "        path = self.captions[index][0] # the name of the image\n",
        "        caption = self.captions[index][1] # the caption\n",
        "\n",
        "        image = Image.open(os.path.join(self.root, path)).convert('RGB')\n",
        "        if self.transform is not None:\n",
        "            image = self.transform(image)\n",
        "\n",
        "        # Tokenize the caption\n",
        "        tokens = nltk.tokenize.word_tokenize(str(caption).lower())\n",
        "        caption = []\n",
        "        caption.append(vocab('<start>')) # Start tag\n",
        "        caption.extend([vocab(token) for token in tokens]) # Pick words in vocabs if word is in token\n",
        "        caption.append(vocab('<end>')) # End tag\n",
        "        target = torch.Tensor(caption) # Create a tensor\n",
        "        return image, target\n",
        "\n",
        "    def __len__(self):\n",
        "        return len(self.captions)"
      ],
      "execution_count": 11,
      "outputs": []
    },
    {
      "cell_type": "code",
      "metadata": {
        "id": "KB_ftxdfmDH-"
      },
      "source": [
        "# Batch the tuple composed of a image and a caption\n",
        "def collate_fn(data):\n",
        "    \"\"\"\n",
        "    [Input]\n",
        "    * data : list of tuple (image, caption)\n",
        "      * image : torch tensor of shape (3, 256, 256)\n",
        "      * caption : torch tensor of shape (?); variable length\n",
        "    [output]\n",
        "    * images : torch tensor of shape (batch_size, 3, 256, 256)\n",
        "    * targets: torch tensor of shape (batch_size, padded_length)\n",
        "    * lengths: list; valid length for each padded caption\n",
        "    \"\"\"\n",
        "    # Sort data by the length of the captions\n",
        "    data.sort(key=lambda x: len(x[1]), reverse=True)\n",
        "    images, captions = zip(*data)\n",
        "\n",
        "    # Merge images in the form of the list into one tensor (num of data, 3, 256, 256)\n",
        "    images = torch.stack(images, 0)\n",
        "\n",
        "    # Merge captions in the form of the list into one tensor(num of data, the number of tokens in the largest length of the token)\n",
        "    lengths = [len(caption) for caption in captions]\n",
        "    targets = torch.zeros(len(captions), max(lengths)).long()\n",
        "    # get rid of padding\n",
        "    for i, cap in enumerate(captions):\n",
        "        end = lengths[i]\n",
        "        targets[i, :end] = cap[:end]\n",
        "    return images, targets, lengths\n",
        "\n",
        "# Batch the tuple for testing set\n",
        "def collate_fn_test(data):\n",
        "    images, captions = zip(*data)\n",
        "\n",
        "    images = torch.stack(images, 0)\n",
        "\n",
        "    lengths = [len(caption) for caption in captions]\n",
        "    targets = torch.zeros(len(captions), max(lengths)).long()\n",
        "    for i, cap in enumerate(captions):\n",
        "        end = lengths[i]\n",
        "        targets[i, :end] = cap[:end]\n",
        "    return images, targets, lengths\n",
        "\n",
        "\n",
        "# torch.utils.data.DataLoacer\n",
        "# - Enable us to handle massive data in mini-batch size units\n",
        "# - Efficient training by shuffling randomly\n",
        "def get_loader(root, captions, vocab, transform, batch_size, shuffle, num_workers, testing):\n",
        "    flickr8k = Flickr8kDataset(root=root, captions=captions, vocab=vocab, transform=transform)\n",
        "    if not testing:\n",
        "        data_loader = torch.utils.data.DataLoader(dataset=flickr8k, batch_size=batch_size, shuffle=shuffle, num_workers=num_workers, collate_fn=collate_fn)\n",
        "    else:\n",
        "        data_loader = torch.utils.data.DataLoader(dataset=flickr8k, batch_size=batch_size, shuffle=shuffle, num_workers=num_workers, collate_fn=collate_fn_test)\n",
        "    return data_loader # images, captions, lengths for each iteration"
      ],
      "execution_count": 12,
      "outputs": []
    },
    {
      "cell_type": "code",
      "metadata": {
        "id": "K_y28UIFmQYq"
      },
      "source": [
        "import torch\n",
        "import torch.nn as nn\n",
        "import torchvision.models as models # We will use pretrained model for encoder\n",
        "from torch.nn.utils.rnn import pack_padded_sequence # To pakage the padded sentence\n",
        "\n",
        "\n",
        "class EncoderCNN(nn.Module):\n",
        "    def __init__(self, embed_size):\n",
        "        super(EncoderCNN, self).__init__()\n",
        "        resnet = models.resnet101(pretrained=True) # Pretrained model 'resnet101'\n",
        "        modules = list(resnet.children())[:-1] # Remove the last layer, FC, since we are not doing classification\n",
        "        self.resnet = nn.Sequential(*modules) # Run at 'once', Conv2d, bottleneck, maxpooling..., \n",
        "        self.linear = nn.Linear(resnet.fc.in_features, embed_size) # input_features -> output_features\n",
        "        self.bn = nn.BatchNorm1d(embed_size, momentum=0.01) # normalize every mini batch to avoid gradient vanishing, exploding \n",
        "\n",
        "    # forward propagation\n",
        "    # parmas: images, a tensor\n",
        "    def forward(self, images):\n",
        "        with torch.no_grad(): # No history tracking, requries_grad=False\n",
        "            features = self.resnet(images)\n",
        "        features = features.reshape(features.size(0), -1)\n",
        "        features = self.bn(self.linear(features))\n",
        "        return features\n",
        "\n",
        "\n",
        "class DecoderRNN(nn.Module):\n",
        "    def __init__(self, embed_size, hidden_size, vocab_size, num_layers, max_seq_length=20):\n",
        "        super(DecoderRNN, self).__init__()\n",
        "        self.embed = nn.Embedding(vocab_size, embed_size)\n",
        "        self.lstm = nn.LSTM(embed_size, hidden_size, num_layers, batch_first=True)\n",
        "        self.linear = nn.Linear(hidden_size, vocab_size)\n",
        "        self.max_seg_length = max_seq_length\n",
        "\n",
        "    # Forward propagation\n",
        "    def forward(self, features, captions, lengths):\n",
        "        embeddings = self.embed(captions) # embed caption -> in embedding dimension\n",
        "        embeddings = torch.cat((features.unsqueeze(1), embeddings), 1) # concatenate features + embeddings\n",
        "        packed = pack_padded_sequence(embeddings, lengths, batch_first=True) # pad empty slot for the same length \n",
        "        hiddens, _ = self.lstm(packed) \n",
        "        outputs = self.linear(hiddens[0])\n",
        "        return outputs\n",
        "\n",
        "    # Decoder to test the image\n",
        "    def sample(self, features, states=None):\n",
        "        sampled_indexes = []\n",
        "        inputs = features.unsqueeze(1)\n",
        "        for i in range(self.max_seg_length):\n",
        "            hiddens, states = self.lstm(inputs, states) # hiddens: (batch_size, 1, hidden_size)\n",
        "            outputs = self.linear(hiddens.squeeze(1)) # outputs: (batch_size, vocab_size)\n",
        "            _, predicted = outputs.max(1) # predicted: (batch_size)\n",
        "            sampled_indexes.append(predicted)\n",
        "            inputs = self.embed(predicted) # inputs: (batch_size, embed_size)\n",
        "            inputs = inputs.unsqueeze(1) # inputs: (batch_size, 1, embed_size)\n",
        "        sampled_indexes = torch.stack(sampled_indexes, 1) # sampled_indexes: (batch_size, max_seq_length)\n",
        "        return sampled_indexes"
      ],
      "execution_count": 13,
      "outputs": []
    },
    {
      "cell_type": "code",
      "metadata": {
        "id": "eFyRDoMMmcNQ"
      },
      "source": [
        "import torch\n",
        "from torch.nn.utils.rnn import pack_padded_sequence\n",
        "from torchvision import transforms # Image transformation\n",
        "\n",
        "device = torch.device('cuda' if torch.cuda.is_available() else 'cpu')\n",
        "\n",
        "model_path = \"models/\" \n",
        "crop_size = 224 \n",
        "vocab_path = \"./vocab.pkl\" \n",
        "\n",
        "if not os.path.exists(model_path):\n",
        "    os.makedirs(model_path)\n",
        "\n",
        "with open(vocab_path, 'rb') as f:\n",
        "    vocab = pickle.load(f)\n",
        "\n",
        "train_transform = transforms.Compose([ \n",
        "    transforms.RandomCrop(crop_size), # Crop the random parts of the image to (224, 224)\n",
        "    transforms.RandomHorizontalFlip(), # Flip the image horizontally and randomly\n",
        "    transforms.ToTensor(), # Covert to a tensor\n",
        "    transforms.Normalize((0.485, 0.456, 0.406), (0.229, 0.224, 0.225))]) # Normalize tensor\n",
        "\n",
        "val_transform = transforms.Compose([ \n",
        "    transforms.Resize(crop_size), \n",
        "    transforms.ToTensor(), \n",
        "    transforms.Normalize((0.485, 0.456, 0.406), (0.229, 0.224, 0.225))])\n",
        "\n",
        "test_transform = transforms.Compose([ \n",
        "    transforms.Resize(crop_size), \n",
        "    transforms.ToTensor(), \n",
        "    transforms.Normalize((0.485, 0.456, 0.406), (0.229, 0.224, 0.225))])\n",
        "\n",
        "batch_size = 128\n",
        "num_workers = 2\n",
        "\n",
        "train_data_loader = get_loader(train_image_dir, train_caption_path, vocab, train_transform, batch_size, shuffle=True, num_workers=num_workers, testing=False) \n",
        "val_data_loader = get_loader(val_image_dir, val_caption_path, vocab, val_transform, batch_size, shuffle=False, num_workers=num_workers, testing=False)\n",
        "test_data_loader = get_loader(test_image_dir, test_caption_path, vocab, test_transform, batch_size, shuffle=False, num_workers=num_workers, testing=True)"
      ],
      "execution_count": 14,
      "outputs": []
    },
    {
      "cell_type": "code",
      "metadata": {
        "id": "5V0Zs7kXmiHQ",
        "colab": {
          "base_uri": "https://localhost:8080/",
          "height": 66,
          "referenced_widgets": [
            "fbf40922ee784f83aa1947a03d9eb0bf",
            "c08c2f67bc564032bf39aaecef67e77e",
            "77865b8403934be78e1c6675cb6730dd",
            "f7ac630452c54c42aa76d09013bcda28",
            "4c900b9741a648cfa955bdbf189f62b5",
            "6401cb5d0cc74bd786ba94284d96431e",
            "4e767d7a58b842fda3a85b54699a43c8",
            "a736acbea6404e00bbc593bf7c47eb55",
            "c1bc9df2ca1b4a27b8a8de3309c81f9d",
            "b1bf76c903ce4ad3b46e838e3163e4bc",
            "9f190a0613064b909e51cc72fa2cf69f"
          ]
        },
        "outputId": "68b64c48-5388-4a06-8f00-4f5b4989f0af"
      },
      "source": [
        "# Define model's hyper parameter\n",
        "embed_size = 256 \n",
        "hidden_size = 512 \n",
        "num_layers = 1 \n",
        "\n",
        "encoder = EncoderCNN(embed_size).to(device)\n",
        "decoder = DecoderRNN(embed_size, hidden_size, len(vocab), num_layers).to(device)\n",
        "\n",
        "num_epochs = 5\n",
        "learning_rate = 0.001\n",
        "\n",
        "log_step = 20 \n",
        "save_step = 1000 #\n",
        "\n",
        "criterion = nn.CrossEntropyLoss()\n",
        "params = list(decoder.parameters()) + list(encoder.linear.parameters()) + list(encoder.bn.parameters())\n",
        "optimizer = torch.optim.Adam(params, lr=learning_rate)"
      ],
      "execution_count": 15,
      "outputs": [
        {
          "output_type": "stream",
          "name": "stderr",
          "text": [
            "Downloading: \"https://download.pytorch.org/models/resnet101-63fe2227.pth\" to /root/.cache/torch/hub/checkpoints/resnet101-63fe2227.pth\n"
          ]
        },
        {
          "output_type": "display_data",
          "data": {
            "application/vnd.jupyter.widget-view+json": {
              "model_id": "fbf40922ee784f83aa1947a03d9eb0bf",
              "version_minor": 0,
              "version_major": 2
            },
            "text/plain": [
              "  0%|          | 0.00/171M [00:00<?, ?B/s]"
            ]
          },
          "metadata": {}
        }
      ]
    },
    {
      "cell_type": "code",
      "metadata": {
        "colab": {
          "base_uri": "https://localhost:8080/"
        },
        "id": "rEuLBhmrg3GR",
        "outputId": "00ae295c-0784-4a6e-d171-69ae26f99521"
      },
      "source": [
        "import torch\n",
        "from torch import nn\n",
        "from torchsummary import summary as summary_\n",
        "from torch.nn import functional as F\n",
        "\n",
        "print(decoder)"
      ],
      "execution_count": 16,
      "outputs": [
        {
          "output_type": "stream",
          "name": "stdout",
          "text": [
            "DecoderRNN(\n",
            "  (embed): Embedding(3446, 256)\n",
            "  (lstm): LSTM(256, 512, batch_first=True)\n",
            "  (linear): Linear(in_features=512, out_features=3446, bias=True)\n",
            ")\n"
          ]
        }
      ]
    },
    {
      "cell_type": "code",
      "metadata": {
        "id": "xnIsKgcHmneH",
        "colab": {
          "base_uri": "https://localhost:8080/"
        },
        "outputId": "7ffddb2b-087b-43ca-ceba-d64290dea735"
      },
      "source": [
        "import time\n",
        "import numpy as np\n",
        "\n",
        "start_time = time.time() # estimating the learning time\n",
        "\n",
        "for epoch in range(num_epochs):\n",
        "\n",
        "    print(\"[ Training ]\")\n",
        "    total_loss = 0\n",
        "    total_count = 0\n",
        "    total_step = len(train_data_loader)\n",
        "\n",
        "    ## train_data_loader returns packages of images, captions, and lenghts ##\n",
        "    # For every iteration,\n",
        "    # an image is loaded to Tensor by .to(device),\n",
        "    # target(the answer) is set with packed to maintain the same lenght\n",
        "    # Then CNN extracts the features of the image, and LSTM generates the ouput\n",
        "    # Loss is based on cross-entropy\n",
        "    # Parameter\n",
        "    # - images : images\n",
        "    # - captions : captions by index\n",
        "    # - lenghts : a list contains the length of each captions\n",
        "    for i, (images, captions, lengths) in enumerate(train_data_loader):\n",
        "        images = images.to(device)\n",
        "        captions = captions.to(device)\n",
        "        targets = pack_padded_sequence(captions, lengths, batch_first=True)[0] # set answers\n",
        "        features = encoder(images) # EncoderCNN's forward() -> returns features -> This goes to decoder\n",
        "        outputs = decoder(features, captions, lengths) # DecoderRNN's forward() -> returns output\n",
        "        loss = criterion(outputs, targets) # get the loss\n",
        "        # Initialize right before the gradient descent\n",
        "        # In pytorch, gradients are added when backward because of the buffer stacked\n",
        "        decoder.zero_grad()\n",
        "        encoder.zero_grad()\n",
        "        # get the gradient for the loss throught Backpropagation\n",
        "        loss.backward()\n",
        "        # Optimize parameter\n",
        "        optimizer.step()\n",
        "\n",
        "        total_loss += loss.item()\n",
        "        total_count += images.shape[0]\n",
        "\n",
        "        if i % log_step == 0:\n",
        "            print('Epoch [{}/{}], Step [{}/{}], Average Loss: {:.4f}, Perplexity: {:5.4f}, Elapsed time: {:.4f}s'\n",
        "                  .format(epoch, num_epochs, i, total_step, total_loss / total_count, np.exp(loss.item()), time.time() - start_time))\n",
        "            \n",
        "    # after completing one epoch, save the checkpoint\n",
        "    torch.save(decoder.state_dict(), os.path.join(model_path, f'decoder-{epoch + 1}.ckpt'))\n",
        "    torch.save(encoder.state_dict(), os.path.join(model_path, f'encoder-{epoch + 1}.ckpt'))\n",
        "    print(f\"Model saved: {os.path.join(model_path, f'decoder-{epoch + 1}.ckpt')}\")\n",
        "    print(f\"Model saved: {os.path.join(model_path, f'encoder-{epoch + 1}.ckpt')}\")\n",
        "\n",
        "    # Validate dataset with parameters obtained from traning stage\n",
        "    print(\"[ Validation ]\")\n",
        "    total_loss = 0\n",
        "    total_count = 0\n",
        "    total_step = len(val_data_loader)\n",
        "    with torch.no_grad():\n",
        "        for i, (images, captions, lengths) in enumerate(val_data_loader):\n",
        "            images = images.to(device)\n",
        "            captions = captions.to(device)\n",
        "            targets = pack_padded_sequence(captions, lengths, batch_first=True)[0]\n",
        "\n",
        "            features = encoder(images)\n",
        "            outputs = decoder(features, captions, lengths)\n",
        "            loss = criterion(outputs, targets)\n",
        "  \n",
        "            total_loss += loss.item()\n",
        "            total_count += images.shape[0]\n",
        "\n",
        "            if i % log_step == 0:\n",
        "                print('Epoch [{}/{}], Step [{}/{}], Average Loss: {:.4f}, Perplexity: {:5.4f}, Elapsed time: {:.4f}s'\n",
        "                      .format(epoch, num_epochs, i, total_step, total_loss / total_count, np.exp(loss.item()), time.time() - start_time))"
      ],
      "execution_count": 18,
      "outputs": [
        {
          "output_type": "stream",
          "name": "stdout",
          "text": [
            "[ Training ]\n",
            "Epoch [0/5], Step [0/235], Average Loss: 0.0273, Perplexity: 32.8964, Elapsed time: 2.3243s\n",
            "Epoch [0/5], Step [20/235], Average Loss: 0.0271, Perplexity: 28.3417, Elapsed time: 29.2637s\n",
            "Epoch [0/5], Step [40/235], Average Loss: 0.0266, Perplexity: 26.3294, Elapsed time: 56.2077s\n",
            "Epoch [0/5], Step [60/235], Average Loss: 0.0261, Perplexity: 26.4888, Elapsed time: 83.2363s\n",
            "Epoch [0/5], Step [80/235], Average Loss: 0.0259, Perplexity: 25.0598, Elapsed time: 110.2037s\n",
            "Epoch [0/5], Step [100/235], Average Loss: 0.0256, Perplexity: 24.8305, Elapsed time: 137.2454s\n",
            "Epoch [0/5], Step [120/235], Average Loss: 0.0254, Perplexity: 24.3655, Elapsed time: 164.2765s\n",
            "Epoch [0/5], Step [140/235], Average Loss: 0.0252, Perplexity: 20.7853, Elapsed time: 191.2911s\n",
            "Epoch [0/5], Step [160/235], Average Loss: 0.0249, Perplexity: 22.3923, Elapsed time: 218.3161s\n",
            "Epoch [0/5], Step [180/235], Average Loss: 0.0248, Perplexity: 20.0665, Elapsed time: 245.3443s\n",
            "Epoch [0/5], Step [200/235], Average Loss: 0.0246, Perplexity: 17.6479, Elapsed time: 272.3818s\n",
            "Epoch [0/5], Step [220/235], Average Loss: 0.0244, Perplexity: 17.6281, Elapsed time: 299.4152s\n",
            "Model saved: models/decoder-1.ckpt\n",
            "Model saved: models/encoder-1.ckpt\n",
            "[ Validation ]\n",
            "Epoch [0/5], Step [0/40], Average Loss: 0.0225, Perplexity: 17.7617, Elapsed time: 320.5748s\n",
            "Epoch [0/5], Step [20/40], Average Loss: 0.0232, Perplexity: 20.6227, Elapsed time: 347.0728s\n",
            "[ Training ]\n",
            "Epoch [1/5], Step [0/235], Average Loss: 0.0223, Perplexity: 17.3054, Elapsed time: 373.3859s\n",
            "Epoch [1/5], Step [20/235], Average Loss: 0.0216, Perplexity: 16.5924, Elapsed time: 400.3848s\n",
            "Epoch [1/5], Step [40/235], Average Loss: 0.0215, Perplexity: 14.8683, Elapsed time: 427.3299s\n",
            "Epoch [1/5], Step [60/235], Average Loss: 0.0215, Perplexity: 14.7779, Elapsed time: 454.3600s\n",
            "Epoch [1/5], Step [80/235], Average Loss: 0.0215, Perplexity: 15.2889, Elapsed time: 481.3398s\n",
            "Epoch [1/5], Step [100/235], Average Loss: 0.0214, Perplexity: 16.2286, Elapsed time: 508.3579s\n",
            "Epoch [1/5], Step [120/235], Average Loss: 0.0213, Perplexity: 13.6962, Elapsed time: 535.3815s\n",
            "Epoch [1/5], Step [140/235], Average Loss: 0.0212, Perplexity: 15.1441, Elapsed time: 562.4092s\n",
            "Epoch [1/5], Step [160/235], Average Loss: 0.0211, Perplexity: 14.1559, Elapsed time: 589.3908s\n",
            "Epoch [1/5], Step [180/235], Average Loss: 0.0211, Perplexity: 13.4525, Elapsed time: 616.3766s\n",
            "Epoch [1/5], Step [200/235], Average Loss: 0.0210, Perplexity: 13.5245, Elapsed time: 643.3811s\n",
            "Epoch [1/5], Step [220/235], Average Loss: 0.0209, Perplexity: 13.3425, Elapsed time: 670.3564s\n",
            "Model saved: models/decoder-2.ckpt\n",
            "Model saved: models/encoder-2.ckpt\n",
            "[ Validation ]\n",
            "Epoch [1/5], Step [0/40], Average Loss: 0.0211, Perplexity: 14.8231, Elapsed time: 691.4924s\n",
            "Epoch [1/5], Step [20/40], Average Loss: 0.0215, Perplexity: 17.1650, Elapsed time: 717.9606s\n",
            "[ Training ]\n",
            "Epoch [2/5], Step [0/235], Average Loss: 0.0192, Perplexity: 11.6359, Elapsed time: 744.2430s\n",
            "Epoch [2/5], Step [20/235], Average Loss: 0.0195, Perplexity: 11.5093, Elapsed time: 771.1678s\n",
            "Epoch [2/5], Step [40/235], Average Loss: 0.0193, Perplexity: 11.9421, Elapsed time: 798.1105s\n",
            "Epoch [2/5], Step [60/235], Average Loss: 0.0193, Perplexity: 10.8122, Elapsed time: 825.0677s\n",
            "Epoch [2/5], Step [80/235], Average Loss: 0.0193, Perplexity: 10.9819, Elapsed time: 852.0526s\n",
            "Epoch [2/5], Step [100/235], Average Loss: 0.0193, Perplexity: 12.0483, Elapsed time: 879.0316s\n",
            "Epoch [2/5], Step [120/235], Average Loss: 0.0193, Perplexity: 11.6294, Elapsed time: 905.9802s\n",
            "Epoch [2/5], Step [140/235], Average Loss: 0.0192, Perplexity: 12.2384, Elapsed time: 932.9451s\n",
            "Epoch [2/5], Step [160/235], Average Loss: 0.0192, Perplexity: 12.3261, Elapsed time: 959.9056s\n",
            "Epoch [2/5], Step [180/235], Average Loss: 0.0192, Perplexity: 12.0103, Elapsed time: 986.8988s\n",
            "Epoch [2/5], Step [200/235], Average Loss: 0.0192, Perplexity: 12.0108, Elapsed time: 1013.9186s\n",
            "Epoch [2/5], Step [220/235], Average Loss: 0.0192, Perplexity: 11.9676, Elapsed time: 1040.8392s\n",
            "Model saved: models/decoder-3.ckpt\n",
            "Model saved: models/encoder-3.ckpt\n",
            "[ Validation ]\n",
            "Epoch [2/5], Step [0/40], Average Loss: 0.0202, Perplexity: 13.3518, Elapsed time: 1061.9233s\n",
            "Epoch [2/5], Step [20/40], Average Loss: 0.0207, Perplexity: 15.4940, Elapsed time: 1088.3903s\n",
            "[ Training ]\n",
            "Epoch [3/5], Step [0/235], Average Loss: 0.0178, Perplexity: 9.8224, Elapsed time: 1114.6115s\n",
            "Epoch [3/5], Step [20/235], Average Loss: 0.0180, Perplexity: 9.5207, Elapsed time: 1141.6467s\n",
            "Epoch [3/5], Step [40/235], Average Loss: 0.0180, Perplexity: 10.1704, Elapsed time: 1168.6054s\n",
            "Epoch [3/5], Step [60/235], Average Loss: 0.0180, Perplexity: 10.3802, Elapsed time: 1195.5573s\n",
            "Epoch [3/5], Step [80/235], Average Loss: 0.0180, Perplexity: 10.1151, Elapsed time: 1222.5025s\n",
            "Epoch [3/5], Step [100/235], Average Loss: 0.0180, Perplexity: 10.1015, Elapsed time: 1249.4672s\n",
            "Epoch [3/5], Step [120/235], Average Loss: 0.0180, Perplexity: 9.9618, Elapsed time: 1276.4771s\n",
            "Epoch [3/5], Step [140/235], Average Loss: 0.0179, Perplexity: 9.8939, Elapsed time: 1303.6440s\n",
            "Epoch [3/5], Step [160/235], Average Loss: 0.0179, Perplexity: 9.7543, Elapsed time: 1330.8429s\n",
            "Epoch [3/5], Step [180/235], Average Loss: 0.0179, Perplexity: 8.5503, Elapsed time: 1357.9905s\n",
            "Epoch [3/5], Step [200/235], Average Loss: 0.0179, Perplexity: 9.1896, Elapsed time: 1385.1680s\n",
            "Epoch [3/5], Step [220/235], Average Loss: 0.0179, Perplexity: 9.6556, Elapsed time: 1412.3856s\n",
            "Model saved: models/decoder-4.ckpt\n",
            "Model saved: models/encoder-4.ckpt\n",
            "[ Validation ]\n",
            "Epoch [3/5], Step [0/40], Average Loss: 0.0198, Perplexity: 12.6133, Elapsed time: 1433.5632s\n",
            "Epoch [3/5], Step [20/40], Average Loss: 0.0202, Perplexity: 14.7995, Elapsed time: 1460.3481s\n",
            "[ Training ]\n",
            "Epoch [4/5], Step [0/235], Average Loss: 0.0167, Perplexity: 8.4578, Elapsed time: 1486.8151s\n",
            "Epoch [4/5], Step [20/235], Average Loss: 0.0169, Perplexity: 8.8167, Elapsed time: 1514.0263s\n",
            "Epoch [4/5], Step [40/235], Average Loss: 0.0169, Perplexity: 8.1156, Elapsed time: 1541.2143s\n",
            "Epoch [4/5], Step [60/235], Average Loss: 0.0169, Perplexity: 7.9964, Elapsed time: 1568.4025s\n",
            "Epoch [4/5], Step [80/235], Average Loss: 0.0169, Perplexity: 8.8082, Elapsed time: 1595.5688s\n",
            "Epoch [4/5], Step [100/235], Average Loss: 0.0169, Perplexity: 8.7046, Elapsed time: 1622.7217s\n",
            "Epoch [4/5], Step [120/235], Average Loss: 0.0169, Perplexity: 8.7059, Elapsed time: 1649.8361s\n",
            "Epoch [4/5], Step [140/235], Average Loss: 0.0169, Perplexity: 8.4200, Elapsed time: 1676.9643s\n",
            "Epoch [4/5], Step [160/235], Average Loss: 0.0169, Perplexity: 8.6216, Elapsed time: 1704.0867s\n",
            "Epoch [4/5], Step [180/235], Average Loss: 0.0169, Perplexity: 8.0714, Elapsed time: 1731.2369s\n",
            "Epoch [4/5], Step [200/235], Average Loss: 0.0169, Perplexity: 9.7699, Elapsed time: 1758.4098s\n",
            "Epoch [4/5], Step [220/235], Average Loss: 0.0169, Perplexity: 9.0275, Elapsed time: 1785.5963s\n",
            "Model saved: models/decoder-5.ckpt\n",
            "Model saved: models/encoder-5.ckpt\n",
            "[ Validation ]\n",
            "Epoch [4/5], Step [0/40], Average Loss: 0.0196, Perplexity: 12.2947, Elapsed time: 1806.8383s\n",
            "Epoch [4/5], Step [20/40], Average Loss: 0.0200, Perplexity: 14.3815, Elapsed time: 1833.5146s\n"
          ]
        }
      ]
    },
    {
      "cell_type": "code",
      "metadata": {
        "id": "WAMHcnbf0gps"
      },
      "source": [
        "# load image\n",
        "def load_image(image_path, transform=None):\n",
        "    image = Image.open(image_path).convert('RGB')\n",
        "    image = image.resize([224, 224], Image.LANCZOS)\n",
        "\n",
        "    if transform is not None:\n",
        "        image = transform(image).unsqueeze(0) # To tensor\n",
        "    \n",
        "    return image\n",
        "\n",
        "image_path = \"./Flickr8k_dataset/Images/3718076407_0b4588d7bc.jpg\" # test image\n",
        "encoder_path = \"./models/encoder-5.ckpt\" # path for trained encoder\n",
        "decoder_path = \"./models/decoder-5.ckpt\" # path for trained decoder\n",
        "vocab_path = \"./vocab.pkl\" # path for vocabulary wrapper\n",
        "\n",
        "# Model parameters (should be same as paramters in train.py)\n",
        "embed_size = 256 # dimension of word embedding vectors\n",
        "hidden_size = 512 # dimension of lstm hidden states\n",
        "num_layers = 1 # number of layers in lstm"
      ],
      "execution_count": 20,
      "outputs": []
    },
    {
      "cell_type": "code",
      "metadata": {
        "id": "32YjYm4m388m",
        "colab": {
          "base_uri": "https://localhost:8080/"
        },
        "outputId": "b6497165-c492-47f6-e733-693a81c1ca35"
      },
      "source": [
        "# image preprocessing\n",
        "transform = transforms.Compose([\n",
        "    transforms.ToTensor(), \n",
        "    transforms.Normalize((0.485, 0.456, 0.406), (0.229, 0.224, 0.225))])\n",
        "\n",
        "# Load vocabulary wrapper\n",
        "with open(vocab_path, 'rb') as f:\n",
        "    vocab = pickle.load(f)\n",
        "\n",
        "# Build models\n",
        "encoder = EncoderCNN(embed_size).eval() # eval mode (batchnorm uses moving mean/variance)\n",
        "decoder = DecoderRNN(embed_size, hidden_size, len(vocab), num_layers)\n",
        "encoder = encoder.to(device)\n",
        "decoder = decoder.to(device)\n",
        "\n",
        "print(decoder)\n",
        "\n",
        "# Load the trained model parameters\n",
        "encoder.load_state_dict(torch.load(encoder_path))\n",
        "decoder.load_state_dict(torch.load(decoder_path))\n",
        "\n",
        "# Prepare an image\n",
        "image = load_image(image_path, transform)\n",
        "image_tensor = image.to(device)\n",
        "\n",
        "# Generate an caption from the image\n",
        "feature = encoder(image_tensor)\n",
        "sampled_ids = decoder.sample(feature)\n",
        "print(sampled_ids)\n",
        "sampled_ids = sampled_ids[0].cpu().numpy() # (1, max_seq_length) -> (max_seq_length)\n",
        "print(sampled_ids)\n",
        "# Convert word_ids to words\n",
        "sampled_caption = []\n",
        "for word_id in sampled_ids: \n",
        "    word = vocab.idx2word[word_id] \n",
        "    sampled_caption.append(word)\n",
        "    if word == '<end>':\n",
        "        break\n",
        "sentence = ' '.join(sampled_caption)"
      ],
      "execution_count": 21,
      "outputs": [
        {
          "output_type": "stream",
          "name": "stdout",
          "text": [
            "DecoderRNN(\n",
            "  (embed): Embedding(3446, 256)\n",
            "  (lstm): LSTM(256, 512, batch_first=True)\n",
            "  (linear): Linear(in_features=512, out_features=3446, bias=True)\n",
            ")\n",
            "tensor([[  1,   4,  25, 120, 119,   9,  61,  11,   2,   2,   4, 116, 170,  11,\n",
            "           2,   2,  11,   2,   2,  11]], device='cuda:0')\n",
            "[  1   4  25 120 119   9  61  11   2   2   4 116 170  11   2   2  11   2\n",
            "   2  11]\n"
          ]
        }
      ]
    },
    {
      "cell_type": "code",
      "metadata": {
        "id": "0C-v57R_4AbE",
        "colab": {
          "base_uri": "https://localhost:8080/",
          "height": 286
        },
        "outputId": "405479dd-38cc-4a76-9c3e-c4f5777fe81e"
      },
      "source": [
        "import matplotlib.pyplot as plt\n",
        "\n",
        "image = Image.open(image_path)\n",
        "plt.imshow(np.asarray(image))\n",
        "plt.show()\n",
        "print(sentence)"
      ],
      "execution_count": 22,
      "outputs": [
        {
          "output_type": "display_data",
          "data": {
            "image/png": "[encoded data removed]",
            "text/plain": [
              "<Figure size 432x288 with 1 Axes>"
            ]
          },
          "metadata": {
            "needs_background": "light"
          }
        },
        {
          "output_type": "stream",
          "name": "stdout",
          "text": [
            "<start> a dog runs through the grass . <end>\n"
          ]
        }
      ]
    },
    {
      "cell_type": "code",
      "metadata": {
        "id": "OcLpqupDY3Nr",
        "colab": {
          "base_uri": "https://localhost:8080/"
        },
        "outputId": "55286f9d-9923-4b2b-91d0-9e88ebd5837c"
      },
      "source": [
        "predictions = []\n",
        "answers = []\n",
        "answers_per_image = []\n",
        "\n",
        "total_step = len(test_data_loader)\n",
        "cnt = 0\n",
        "\n",
        "with torch.no_grad():\n",
        "    for i, (images, captions, lengths) in enumerate(test_data_loader):\n",
        "        images = images.to(device)\n",
        "        captions = captions.to(device)\n",
        "\n",
        "        # Forward Propagation\n",
        "        features = encoder(images)\n",
        "        sampled_ids_list = decoder.sample(features)\n",
        "\n",
        "        for index in range(len(images)):\n",
        "            sampled_ids = sampled_ids_list[index].cpu().numpy()\n",
        "\n",
        "            # Answers\n",
        "            answer = []\n",
        "            for word_id in captions[index]: # check by a word and by an index\n",
        "                word = vocab.idx2word[word_id.item()] # swap \n",
        "                answer.append(word)\n",
        "                if word == '<end>':\n",
        "                    break\n",
        "            answers_per_image.append(answer[1:-1]) # insert correct answer excluding <sos> and <eos>\n",
        "\n",
        "            if (cnt + 1) % 5 == 0: # 5 captions per an image\n",
        "                answers.append(answers_per_image) # put 5 at a time\n",
        "                answers_per_image = []\n",
        "\n",
        "                # predicted sentences\n",
        "                prediction = []\n",
        "                for word_id in sampled_ids: \n",
        "                    word = vocab.idx2word[word_id] \n",
        "                    prediction.append(word)\n",
        "                    if word == '<end>':\n",
        "                        break\n",
        "                predictions.append(prediction[1:-1]) \n",
        "            cnt += 1\n",
        "\n",
        "        if i % log_step == 0:\n",
        "            print(f\"[ Testing ] Batch size: {i}/{total_step}\")"
      ],
      "execution_count": 23,
      "outputs": [
        {
          "output_type": "stream",
          "name": "stdout",
          "text": [
            "[ Testing ] Batch size: 0/43\n",
            "[ Testing ] Batch size: 20/43\n",
            "[ Testing ] Batch size: 40/43\n"
          ]
        }
      ]
    },
    {
      "cell_type": "code",
      "metadata": {
        "id": "dbbL0f9kY3o6",
        "colab": {
          "base_uri": "https://localhost:8080/"
        },
        "outputId": "e3d80ecf-b333-4112-a7e2-f7623c175258"
      },
      "source": [
        "print(\"The number of predictions:\", len(predictions))\n",
        "print(\"The number of correct captions:\", len(answers))"
      ],
      "execution_count": 24,
      "outputs": [
        {
          "output_type": "stream",
          "name": "stdout",
          "text": [
            "The number of predictions: 1091\n",
            "The number of correct captions: 1091\n"
          ]
        }
      ]
    },
    {
      "cell_type": "code",
      "metadata": {
        "id": "o1NxtUMMegXW",
        "colab": {
          "base_uri": "https://localhost:8080/"
        },
        "outputId": "1d7d27af-ee3d-47bd-d998-d8a1f6b54d65"
      },
      "source": [
        "index = 2\n",
        "print(\"[ answers ]\")\n",
        "for answer in answers[index]:\n",
        "    print(answer)\n",
        "\n",
        "print(\"[ predicted captions ]\")\n",
        "print(predictions[index])"
      ],
      "execution_count": 25,
      "outputs": [
        {
          "output_type": "stream",
          "name": "stdout",
          "text": [
            "[ answers ]\n",
            "['a', 'brown', 'and', 'white', 'dog', 'is', 'playing', 'with', 'a', 'toy', 'in', 'a', 'field', 'of', 'green', 'grass', 'and', 'clover', '.']\n",
            "['a', 'brown', 'and', 'white', 'dog', 'retrieving', 'a', 'white', 'plushie', 'toy', 'in', 'a', 'field', 'of', 'clover', '.']\n",
            "['a', 'distorted', 'photo', 'of', 'a', 'playing', 'dog', 'in', 'a', 'flower', 'field']\n",
            "['a', 'dog', 'in', 'grass', 'carrying', 'a', 'toy', 'in', 'its', 'mouth', '.']\n",
            "['the', 'little', 'brown', 'dog', 'is', 'running', 'through', 'a', 'clover', 'field', 'with', 'a', 'white', 'object', 'in', 'its', 'mouth', '.']\n",
            "[ predicted captions ]\n",
            "['a', 'dog', 'runs', 'through', 'the', 'grass', '.']\n"
          ]
        }
      ]
    },
    {
      "cell_type": "code",
      "metadata": {
        "id": "yghm5N-yejWj",
        "colab": {
          "base_uri": "https://localhost:8080/"
        },
        "outputId": "60b91005-6bc2-4730-b89c-13ef59ecc155"
      },
      "source": [
        "from torchtext.data.metrics import bleu_score\n",
        "\n",
        "bleu = bleu_score(predictions, answers, max_n=4, weights=[0.25, 0.25, 0.25, 0.25])\n",
        "print(f'Total BLEU Score = {bleu * 100:.2f}')\n",
        "\n",
        "individual_bleu1_score = bleu_score(predictions, answers, max_n=4, weights=[1, 0, 0, 0])\n",
        "individual_bleu2_score = bleu_score(predictions, answers, max_n=4, weights=[0, 1, 0, 0])\n",
        "individual_bleu3_score = bleu_score(predictions, answers, max_n=4, weights=[0, 0, 1, 0])\n",
        "individual_bleu4_score = bleu_score(predictions, answers, max_n=4, weights=[0, 0, 0, 1])\n",
        "\n",
        "print(f'Individual BLEU1 score = {individual_bleu1_score * 100:.2f}') \n",
        "print(f'Individual BLEU2 score = {individual_bleu2_score * 100:.2f}') \n",
        "print(f'Individual BLEU3 score = {individual_bleu3_score * 100:.2f}') \n",
        "print(f'Individual BLEU4 score = {individual_bleu4_score * 100:.2f}') \n",
        "\n",
        "cumulative_bleu1_score = bleu_score(predictions, answers, max_n=4, weights=[1, 0, 0, 0])\n",
        "cumulative_bleu2_score = bleu_score(predictions, answers, max_n=4, weights=[1/2, 1/2, 0, 0])\n",
        "cumulative_bleu3_score = bleu_score(predictions, answers, max_n=4, weights=[1/3, 1/3, 1/3, 0])\n",
        "cumulative_bleu4_score = bleu_score(predictions, answers, max_n=4, weights=[1/4, 1/4, 1/4, 1/4])\n",
        "\n",
        "print(f'Cumulative BLEU1 score = {cumulative_bleu1_score * 100:.2f}') \n",
        "print(f'Cumulative BLEU2 score = {cumulative_bleu2_score * 100:.2f}') \n",
        "print(f'Cumulative BLEU3 score = {cumulative_bleu3_score * 100:.2f}') \n",
        "print(f'Cumulative BLEU4 score = {cumulative_bleu4_score * 100:.2f}')"
      ],
      "execution_count": 26,
      "outputs": [
        {
          "output_type": "stream",
          "name": "stdout",
          "text": [
            "Total BLEU Score = 15.36\n",
            "Individual BLEU1 score = 57.00\n",
            "Individual BLEU2 score = 23.38\n",
            "Individual BLEU3 score = 9.80\n",
            "Individual BLEU4 score = 4.26\n",
            "Cumulative BLEU1 score = 57.00\n",
            "Cumulative BLEU2 score = 36.50\n",
            "Cumulative BLEU3 score = 23.55\n",
            "Cumulative BLEU4 score = 15.36\n"
          ]
        }
      ]
    }
  ]
}